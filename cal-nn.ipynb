{
 "cells": [
  {
   "cell_type": "code",
   "execution_count": 91,
   "metadata": {},
   "outputs": [],
   "source": [
    "from sklearn.datasets import fetch_california_housing\n",
    "import tensorflow as tf"
   ]
  },
  {
   "cell_type": "code",
   "execution_count": 92,
   "metadata": {},
   "outputs": [],
   "source": [
    "house = fetch_california_housing()\n",
    "X = house.data\n",
    "y = house.target"
   ]
  },
  {
   "cell_type": "code",
   "execution_count": 93,
   "metadata": {},
   "outputs": [
    {
     "data": {
      "text/plain": [
       "((20640, 8), (20640,))"
      ]
     },
     "execution_count": 93,
     "metadata": {},
     "output_type": "execute_result"
    }
   ],
   "source": [
    "X.shape, y.shape"
   ]
  },
  {
   "cell_type": "code",
   "execution_count": 94,
   "metadata": {},
   "outputs": [
    {
     "data": {
      "text/plain": [
       "(11610, 8)"
      ]
     },
     "execution_count": 94,
     "metadata": {},
     "output_type": "execute_result"
    }
   ],
   "source": [
    "from sklearn.model_selection import train_test_split\n",
    "\n",
    "X_train_full, X_test, y_train_full, y_test = train_test_split(X,y)\n",
    "X_train, X_valid, y_train, y_valid = train_test_split(X_train_full, y_train_full)\n",
    "X_train.shape"
   ]
  },
  {
   "cell_type": "code",
   "execution_count": 95,
   "metadata": {},
   "outputs": [],
   "source": [
    "from sklearn.preprocessing import StandardScaler\n",
    "\n",
    "std = StandardScaler()\n",
    "X_train = std.fit_transform(X_train)\n",
    "X_test = std.fit_transform(X_test)\n",
    "X_valid = std.fit_transform(X_valid)"
   ]
  },
  {
   "cell_type": "code",
   "execution_count": 96,
   "metadata": {},
   "outputs": [],
   "source": [
    "import keras\n",
    "from keras.models import Sequential\n",
    "from keras.layers import Dense, Dropout"
   ]
  },
  {
   "cell_type": "code",
   "execution_count": 97,
   "metadata": {},
   "outputs": [
    {
     "name": "stderr",
     "output_type": "stream",
     "text": [
      "/Users/bhagya/Library/Python/3.9/lib/python/site-packages/keras/src/layers/core/dense.py:87: UserWarning: Do not pass an `input_shape`/`input_dim` argument to a layer. When using Sequential models, prefer using an `Input(shape)` object as the first layer in the model instead.\n",
      "  super().__init__(activity_regularizer=activity_regularizer, **kwargs)\n"
     ]
    }
   ],
   "source": [
    "model = Sequential()\n",
    "model.add(Dense(512, activation = 'relu', input_shape = X_train.shape[1:]))\n",
    "model.add(Dense(1))"
   ]
  },
  {
   "cell_type": "code",
   "execution_count": 98,
   "metadata": {},
   "outputs": [],
   "source": [
    "model.compile(loss = 'mean_squared_error', optimizer = 'sgd',metrics=[tf.keras.metrics.RootMeanSquaredError(), 'mean_absolute_percentage_error'] )"
   ]
  },
  {
   "cell_type": "code",
   "execution_count": 99,
   "metadata": {},
   "outputs": [
    {
     "name": "stdout",
     "output_type": "stream",
     "text": [
      "Epoch 1/100\n"
     ]
    },
    {
     "name": "stdout",
     "output_type": "stream",
     "text": [
      "\u001b[1m363/363\u001b[0m \u001b[32m━━━━━━━━━━━━━━━━━━━━\u001b[0m\u001b[37m\u001b[0m \u001b[1m0s\u001b[0m 640us/step - loss: 2.2097 - mean_absolute_percentage_error: 43.6312 - root_mean_squared_error: 1.4628 - val_loss: 4.1694 - val_mean_absolute_percentage_error: 88.0473 - val_root_mean_squared_error: 2.0419\n",
      "Epoch 2/100\n",
      "\u001b[1m363/363\u001b[0m \u001b[32m━━━━━━━━━━━━━━━━━━━━\u001b[0m\u001b[37m\u001b[0m \u001b[1m0s\u001b[0m 444us/step - loss: 0.7110 - mean_absolute_percentage_error: 31.1326 - root_mean_squared_error: 0.8401 - val_loss: 4.1124 - val_mean_absolute_percentage_error: 82.1927 - val_root_mean_squared_error: 2.0279\n",
      "Epoch 3/100\n",
      "\u001b[1m363/363\u001b[0m \u001b[32m━━━━━━━━━━━━━━━━━━━━\u001b[0m\u001b[37m\u001b[0m \u001b[1m0s\u001b[0m 464us/step - loss: 0.4065 - mean_absolute_percentage_error: 26.6617 - root_mean_squared_error: 0.6372 - val_loss: 6.0633 - val_mean_absolute_percentage_error: 100.7299 - val_root_mean_squared_error: 2.4624\n",
      "Epoch 4/100\n",
      "\u001b[1m363/363\u001b[0m \u001b[32m━━━━━━━━━━━━━━━━━━━━\u001b[0m\u001b[37m\u001b[0m \u001b[1m0s\u001b[0m 441us/step - loss: 0.4149 - mean_absolute_percentage_error: 26.2101 - root_mean_squared_error: 0.6439 - val_loss: 6.6429 - val_mean_absolute_percentage_error: 105.2873 - val_root_mean_squared_error: 2.5774\n",
      "Epoch 5/100\n",
      "\u001b[1m363/363\u001b[0m \u001b[32m━━━━━━━━━━━━━━━━━━━━\u001b[0m\u001b[37m\u001b[0m \u001b[1m0s\u001b[0m 445us/step - loss: 0.3884 - mean_absolute_percentage_error: 25.5304 - root_mean_squared_error: 0.6231 - val_loss: 7.7752 - val_mean_absolute_percentage_error: 111.1045 - val_root_mean_squared_error: 2.7884\n",
      "Epoch 6/100\n",
      "\u001b[1m363/363\u001b[0m \u001b[32m━━━━━━━━━━━━━━━━━━━━\u001b[0m\u001b[37m\u001b[0m \u001b[1m0s\u001b[0m 451us/step - loss: 0.3703 - mean_absolute_percentage_error: 24.5269 - root_mean_squared_error: 0.6085 - val_loss: 8.4553 - val_mean_absolute_percentage_error: 117.1179 - val_root_mean_squared_error: 2.9078\n",
      "Epoch 7/100\n",
      "\u001b[1m363/363\u001b[0m \u001b[32m━━━━━━━━━━━━━━━━━━━━\u001b[0m\u001b[37m\u001b[0m \u001b[1m0s\u001b[0m 498us/step - loss: 0.3604 - mean_absolute_percentage_error: 24.0253 - root_mean_squared_error: 0.6002 - val_loss: 9.3215 - val_mean_absolute_percentage_error: 121.3242 - val_root_mean_squared_error: 3.0531\n",
      "Epoch 8/100\n",
      "\u001b[1m363/363\u001b[0m \u001b[32m━━━━━━━━━━━━━━━━━━━━\u001b[0m\u001b[37m\u001b[0m \u001b[1m0s\u001b[0m 456us/step - loss: 0.3655 - mean_absolute_percentage_error: 24.3143 - root_mean_squared_error: 0.6045 - val_loss: 9.6361 - val_mean_absolute_percentage_error: 122.8957 - val_root_mean_squared_error: 3.1042\n",
      "Epoch 9/100\n",
      "\u001b[1m363/363\u001b[0m \u001b[32m━━━━━━━━━━━━━━━━━━━━\u001b[0m\u001b[37m\u001b[0m \u001b[1m0s\u001b[0m 453us/step - loss: 0.3434 - mean_absolute_percentage_error: 23.8262 - root_mean_squared_error: 0.5856 - val_loss: 10.8186 - val_mean_absolute_percentage_error: 130.3238 - val_root_mean_squared_error: 3.2892\n",
      "Epoch 10/100\n",
      "\u001b[1m363/363\u001b[0m \u001b[32m━━━━━━━━━━━━━━━━━━━━\u001b[0m\u001b[37m\u001b[0m \u001b[1m0s\u001b[0m 446us/step - loss: 0.3539 - mean_absolute_percentage_error: 23.6378 - root_mean_squared_error: 0.5946 - val_loss: 12.1444 - val_mean_absolute_percentage_error: 139.1206 - val_root_mean_squared_error: 3.4849\n",
      "Epoch 11/100\n",
      "\u001b[1m363/363\u001b[0m \u001b[32m━━━━━━━━━━━━━━━━━━━━\u001b[0m\u001b[37m\u001b[0m \u001b[1m0s\u001b[0m 457us/step - loss: 0.3611 - mean_absolute_percentage_error: 24.4628 - root_mean_squared_error: 0.6005 - val_loss: 11.9006 - val_mean_absolute_percentage_error: 135.0843 - val_root_mean_squared_error: 3.4497\n",
      "Epoch 12/100\n",
      "\u001b[1m363/363\u001b[0m \u001b[32m━━━━━━━━━━━━━━━━━━━━\u001b[0m\u001b[37m\u001b[0m \u001b[1m0s\u001b[0m 463us/step - loss: 0.3379 - mean_absolute_percentage_error: 23.1349 - root_mean_squared_error: 0.5811 - val_loss: 12.0224 - val_mean_absolute_percentage_error: 134.6763 - val_root_mean_squared_error: 3.4673\n",
      "Epoch 13/100\n",
      "\u001b[1m363/363\u001b[0m \u001b[32m━━━━━━━━━━━━━━━━━━━━\u001b[0m\u001b[37m\u001b[0m \u001b[1m0s\u001b[0m 584us/step - loss: 0.3435 - mean_absolute_percentage_error: 23.4787 - root_mean_squared_error: 0.5859 - val_loss: 12.9448 - val_mean_absolute_percentage_error: 139.9212 - val_root_mean_squared_error: 3.5979\n",
      "Epoch 14/100\n",
      "\u001b[1m363/363\u001b[0m \u001b[32m━━━━━━━━━━━━━━━━━━━━\u001b[0m\u001b[37m\u001b[0m \u001b[1m0s\u001b[0m 463us/step - loss: 0.3553 - mean_absolute_percentage_error: 23.1407 - root_mean_squared_error: 0.5959 - val_loss: 13.3690 - val_mean_absolute_percentage_error: 141.9560 - val_root_mean_squared_error: 3.6564\n",
      "Epoch 15/100\n",
      "\u001b[1m363/363\u001b[0m \u001b[32m━━━━━━━━━━━━━━━━━━━━\u001b[0m\u001b[37m\u001b[0m \u001b[1m0s\u001b[0m 461us/step - loss: 0.3671 - mean_absolute_percentage_error: 23.6230 - root_mean_squared_error: 0.6056 - val_loss: 14.0443 - val_mean_absolute_percentage_error: 145.4974 - val_root_mean_squared_error: 3.7476\n",
      "Epoch 16/100\n",
      "\u001b[1m363/363\u001b[0m \u001b[32m━━━━━━━━━━━━━━━━━━━━\u001b[0m\u001b[37m\u001b[0m \u001b[1m0s\u001b[0m 447us/step - loss: 0.3401 - mean_absolute_percentage_error: 23.2622 - root_mean_squared_error: 0.5830 - val_loss: 14.5344 - val_mean_absolute_percentage_error: 146.7356 - val_root_mean_squared_error: 3.8124\n",
      "Epoch 17/100\n",
      "\u001b[1m363/363\u001b[0m \u001b[32m━━━━━━━━━━━━━━━━━━━━\u001b[0m\u001b[37m\u001b[0m \u001b[1m0s\u001b[0m 450us/step - loss: 0.3453 - mean_absolute_percentage_error: 23.3392 - root_mean_squared_error: 0.5873 - val_loss: 14.7200 - val_mean_absolute_percentage_error: 147.3163 - val_root_mean_squared_error: 3.8367\n",
      "Epoch 18/100\n",
      "\u001b[1m363/363\u001b[0m \u001b[32m━━━━━━━━━━━━━━━━━━━━\u001b[0m\u001b[37m\u001b[0m \u001b[1m0s\u001b[0m 446us/step - loss: 0.3214 - mean_absolute_percentage_error: 22.6245 - root_mean_squared_error: 0.5668 - val_loss: 15.3725 - val_mean_absolute_percentage_error: 149.7801 - val_root_mean_squared_error: 3.9208\n",
      "Epoch 19/100\n",
      "\u001b[1m363/363\u001b[0m \u001b[32m━━━━━━━━━━━━━━━━━━━━\u001b[0m\u001b[37m\u001b[0m \u001b[1m0s\u001b[0m 442us/step - loss: 0.3300 - mean_absolute_percentage_error: 22.6685 - root_mean_squared_error: 0.5743 - val_loss: 15.6112 - val_mean_absolute_percentage_error: 150.0977 - val_root_mean_squared_error: 3.9511\n",
      "Epoch 20/100\n",
      "\u001b[1m363/363\u001b[0m \u001b[32m━━━━━━━━━━━━━━━━━━━━\u001b[0m\u001b[37m\u001b[0m \u001b[1m0s\u001b[0m 456us/step - loss: 0.3234 - mean_absolute_percentage_error: 22.5402 - root_mean_squared_error: 0.5684 - val_loss: 16.5380 - val_mean_absolute_percentage_error: 154.8831 - val_root_mean_squared_error: 4.0667\n",
      "Epoch 21/100\n",
      "\u001b[1m363/363\u001b[0m \u001b[32m━━━━━━━━━━━━━━━━━━━━\u001b[0m\u001b[37m\u001b[0m \u001b[1m0s\u001b[0m 451us/step - loss: 0.3308 - mean_absolute_percentage_error: 23.0658 - root_mean_squared_error: 0.5751 - val_loss: 16.3882 - val_mean_absolute_percentage_error: 153.7010 - val_root_mean_squared_error: 4.0482\n",
      "Epoch 22/100\n",
      "\u001b[1m363/363\u001b[0m \u001b[32m━━━━━━━━━━━━━━━━━━━━\u001b[0m\u001b[37m\u001b[0m \u001b[1m0s\u001b[0m 491us/step - loss: 0.3170 - mean_absolute_percentage_error: 22.6629 - root_mean_squared_error: 0.5629 - val_loss: 17.3010 - val_mean_absolute_percentage_error: 157.3436 - val_root_mean_squared_error: 4.1594\n",
      "Epoch 23/100\n",
      "\u001b[1m363/363\u001b[0m \u001b[32m━━━━━━━━━━━━━━━━━━━━\u001b[0m\u001b[37m\u001b[0m \u001b[1m0s\u001b[0m 536us/step - loss: 0.3471 - mean_absolute_percentage_error: 22.7113 - root_mean_squared_error: 0.5882 - val_loss: 17.4301 - val_mean_absolute_percentage_error: 157.2901 - val_root_mean_squared_error: 4.1749\n",
      "Epoch 24/100\n",
      "\u001b[1m363/363\u001b[0m \u001b[32m━━━━━━━━━━━━━━━━━━━━\u001b[0m\u001b[37m\u001b[0m \u001b[1m0s\u001b[0m 644us/step - loss: 0.3425 - mean_absolute_percentage_error: 23.4446 - root_mean_squared_error: 0.5851 - val_loss: 17.6588 - val_mean_absolute_percentage_error: 158.8416 - val_root_mean_squared_error: 4.2022\n",
      "Epoch 25/100\n",
      "\u001b[1m363/363\u001b[0m \u001b[32m━━━━━━━━━━━━━━━━━━━━\u001b[0m\u001b[37m\u001b[0m \u001b[1m0s\u001b[0m 621us/step - loss: 0.3095 - mean_absolute_percentage_error: 22.3264 - root_mean_squared_error: 0.5561 - val_loss: 17.6363 - val_mean_absolute_percentage_error: 157.3696 - val_root_mean_squared_error: 4.1996\n",
      "Epoch 26/100\n",
      "\u001b[1m363/363\u001b[0m \u001b[32m━━━━━━━━━━━━━━━━━━━━\u001b[0m\u001b[37m\u001b[0m \u001b[1m0s\u001b[0m 710us/step - loss: 0.3276 - mean_absolute_percentage_error: 22.7900 - root_mean_squared_error: 0.5723 - val_loss: 17.7357 - val_mean_absolute_percentage_error: 156.3592 - val_root_mean_squared_error: 4.2114\n",
      "Epoch 27/100\n",
      "\u001b[1m363/363\u001b[0m \u001b[32m━━━━━━━━━━━━━━━━━━━━\u001b[0m\u001b[37m\u001b[0m \u001b[1m0s\u001b[0m 572us/step - loss: 0.3490 - mean_absolute_percentage_error: 23.4336 - root_mean_squared_error: 0.5904 - val_loss: 17.8675 - val_mean_absolute_percentage_error: 157.7662 - val_root_mean_squared_error: 4.2270\n",
      "Epoch 28/100\n",
      "\u001b[1m363/363\u001b[0m \u001b[32m━━━━━━━━━━━━━━━━━━━━\u001b[0m\u001b[37m\u001b[0m \u001b[1m0s\u001b[0m 469us/step - loss: 0.3384 - mean_absolute_percentage_error: 23.0741 - root_mean_squared_error: 0.5815 - val_loss: 18.1428 - val_mean_absolute_percentage_error: 158.7491 - val_root_mean_squared_error: 4.2594\n",
      "Epoch 29/100\n",
      "\u001b[1m363/363\u001b[0m \u001b[32m━━━━━━━━━━━━━━━━━━━━\u001b[0m\u001b[37m\u001b[0m \u001b[1m0s\u001b[0m 482us/step - loss: 0.3241 - mean_absolute_percentage_error: 22.5706 - root_mean_squared_error: 0.5690 - val_loss: 18.8532 - val_mean_absolute_percentage_error: 161.6352 - val_root_mean_squared_error: 4.3420\n",
      "Epoch 30/100\n",
      "\u001b[1m363/363\u001b[0m \u001b[32m━━━━━━━━━━━━━━━━━━━━\u001b[0m\u001b[37m\u001b[0m \u001b[1m0s\u001b[0m 452us/step - loss: 0.3294 - mean_absolute_percentage_error: 22.2398 - root_mean_squared_error: 0.5737 - val_loss: 18.5081 - val_mean_absolute_percentage_error: 159.4947 - val_root_mean_squared_error: 4.3021\n",
      "Epoch 31/100\n",
      "\u001b[1m363/363\u001b[0m \u001b[32m━━━━━━━━━━━━━━━━━━━━\u001b[0m\u001b[37m\u001b[0m \u001b[1m0s\u001b[0m 583us/step - loss: 0.3160 - mean_absolute_percentage_error: 22.2428 - root_mean_squared_error: 0.5620 - val_loss: 19.1577 - val_mean_absolute_percentage_error: 162.1529 - val_root_mean_squared_error: 4.3769\n",
      "Epoch 32/100\n",
      "\u001b[1m363/363\u001b[0m \u001b[32m━━━━━━━━━━━━━━━━━━━━\u001b[0m\u001b[37m\u001b[0m \u001b[1m0s\u001b[0m 489us/step - loss: 0.3071 - mean_absolute_percentage_error: 21.9032 - root_mean_squared_error: 0.5541 - val_loss: 19.7541 - val_mean_absolute_percentage_error: 164.4981 - val_root_mean_squared_error: 4.4446\n",
      "Epoch 33/100\n",
      "\u001b[1m363/363\u001b[0m \u001b[32m━━━━━━━━━━━━━━━━━━━━\u001b[0m\u001b[37m\u001b[0m \u001b[1m0s\u001b[0m 501us/step - loss: 0.3153 - mean_absolute_percentage_error: 22.1363 - root_mean_squared_error: 0.5613 - val_loss: 19.7179 - val_mean_absolute_percentage_error: 164.1151 - val_root_mean_squared_error: 4.4405\n",
      "Epoch 34/100\n",
      "\u001b[1m363/363\u001b[0m \u001b[32m━━━━━━━━━━━━━━━━━━━━\u001b[0m\u001b[37m\u001b[0m \u001b[1m0s\u001b[0m 510us/step - loss: 0.3194 - mean_absolute_percentage_error: 22.4138 - root_mean_squared_error: 0.5650 - val_loss: 19.7250 - val_mean_absolute_percentage_error: 163.4109 - val_root_mean_squared_error: 4.4413\n",
      "Epoch 35/100\n",
      "\u001b[1m363/363\u001b[0m \u001b[32m━━━━━━━━━━━━━━━━━━━━\u001b[0m\u001b[37m\u001b[0m \u001b[1m0s\u001b[0m 471us/step - loss: 0.3186 - mean_absolute_percentage_error: 22.0979 - root_mean_squared_error: 0.5642 - val_loss: 19.9629 - val_mean_absolute_percentage_error: 163.6823 - val_root_mean_squared_error: 4.4680\n",
      "Epoch 36/100\n",
      "\u001b[1m363/363\u001b[0m \u001b[32m━━━━━━━━━━━━━━━━━━━━\u001b[0m\u001b[37m\u001b[0m \u001b[1m0s\u001b[0m 452us/step - loss: 0.3153 - mean_absolute_percentage_error: 22.4012 - root_mean_squared_error: 0.5614 - val_loss: 20.8381 - val_mean_absolute_percentage_error: 167.6939 - val_root_mean_squared_error: 4.5649\n",
      "Epoch 37/100\n",
      "\u001b[1m363/363\u001b[0m \u001b[32m━━━━━━━━━━━━━━━━━━━━\u001b[0m\u001b[37m\u001b[0m \u001b[1m0s\u001b[0m 444us/step - loss: 0.3167 - mean_absolute_percentage_error: 22.3754 - root_mean_squared_error: 0.5626 - val_loss: 21.0573 - val_mean_absolute_percentage_error: 169.0345 - val_root_mean_squared_error: 4.5888\n",
      "Epoch 38/100\n",
      "\u001b[1m363/363\u001b[0m \u001b[32m━━━━━━━━━━━━━━━━━━━━\u001b[0m\u001b[37m\u001b[0m \u001b[1m0s\u001b[0m 459us/step - loss: 0.2989 - mean_absolute_percentage_error: 21.6534 - root_mean_squared_error: 0.5464 - val_loss: 22.1018 - val_mean_absolute_percentage_error: 173.3548 - val_root_mean_squared_error: 4.7013\n",
      "Epoch 39/100\n",
      "\u001b[1m363/363\u001b[0m \u001b[32m━━━━━━━━━━━━━━━━━━━━\u001b[0m\u001b[37m\u001b[0m \u001b[1m0s\u001b[0m 519us/step - loss: 0.3164 - mean_absolute_percentage_error: 21.8205 - root_mean_squared_error: 0.5624 - val_loss: 21.7624 - val_mean_absolute_percentage_error: 170.8816 - val_root_mean_squared_error: 4.6650\n",
      "Epoch 40/100\n",
      "\u001b[1m363/363\u001b[0m \u001b[32m━━━━━━━━━━━━━━━━━━━━\u001b[0m\u001b[37m\u001b[0m \u001b[1m0s\u001b[0m 474us/step - loss: 0.3157 - mean_absolute_percentage_error: 21.9618 - root_mean_squared_error: 0.5617 - val_loss: 22.8164 - val_mean_absolute_percentage_error: 175.0028 - val_root_mean_squared_error: 4.7767\n",
      "Epoch 41/100\n",
      "\u001b[1m363/363\u001b[0m \u001b[32m━━━━━━━━━━━━━━━━━━━━\u001b[0m\u001b[37m\u001b[0m \u001b[1m0s\u001b[0m 451us/step - loss: 0.3203 - mean_absolute_percentage_error: 22.3744 - root_mean_squared_error: 0.5656 - val_loss: 22.6841 - val_mean_absolute_percentage_error: 174.4175 - val_root_mean_squared_error: 4.7628\n",
      "Epoch 42/100\n",
      "\u001b[1m363/363\u001b[0m \u001b[32m━━━━━━━━━━━━━━━━━━━━\u001b[0m\u001b[37m\u001b[0m \u001b[1m0s\u001b[0m 457us/step - loss: 0.3161 - mean_absolute_percentage_error: 21.6470 - root_mean_squared_error: 0.5620 - val_loss: 22.8936 - val_mean_absolute_percentage_error: 175.4242 - val_root_mean_squared_error: 4.7847\n",
      "Epoch 43/100\n",
      "\u001b[1m363/363\u001b[0m \u001b[32m━━━━━━━━━━━━━━━━━━━━\u001b[0m\u001b[37m\u001b[0m \u001b[1m0s\u001b[0m 445us/step - loss: 0.3036 - mean_absolute_percentage_error: 21.9454 - root_mean_squared_error: 0.5509 - val_loss: 23.0592 - val_mean_absolute_percentage_error: 176.6210 - val_root_mean_squared_error: 4.8020\n",
      "Epoch 44/100\n",
      "\u001b[1m363/363\u001b[0m \u001b[32m━━━━━━━━━━━━━━━━━━━━\u001b[0m\u001b[37m\u001b[0m \u001b[1m0s\u001b[0m 442us/step - loss: 0.2910 - mean_absolute_percentage_error: 21.5295 - root_mean_squared_error: 0.5393 - val_loss: 23.6254 - val_mean_absolute_percentage_error: 177.1987 - val_root_mean_squared_error: 4.8606\n",
      "Epoch 45/100\n",
      "\u001b[1m363/363\u001b[0m \u001b[32m━━━━━━━━━━━━━━━━━━━━\u001b[0m\u001b[37m\u001b[0m \u001b[1m0s\u001b[0m 445us/step - loss: 0.3092 - mean_absolute_percentage_error: 21.9497 - root_mean_squared_error: 0.5560 - val_loss: 24.7106 - val_mean_absolute_percentage_error: 181.6706 - val_root_mean_squared_error: 4.9710\n",
      "Epoch 46/100\n",
      "\u001b[1m363/363\u001b[0m \u001b[32m━━━━━━━━━━━━━━━━━━━━\u001b[0m\u001b[37m\u001b[0m \u001b[1m0s\u001b[0m 445us/step - loss: 0.2990 - mean_absolute_percentage_error: 21.9780 - root_mean_squared_error: 0.5466 - val_loss: 24.3326 - val_mean_absolute_percentage_error: 180.3400 - val_root_mean_squared_error: 4.9328\n",
      "Epoch 47/100\n",
      "\u001b[1m363/363\u001b[0m \u001b[32m━━━━━━━━━━━━━━━━━━━━\u001b[0m\u001b[37m\u001b[0m \u001b[1m0s\u001b[0m 448us/step - loss: 0.3058 - mean_absolute_percentage_error: 22.0051 - root_mean_squared_error: 0.5529 - val_loss: 24.7059 - val_mean_absolute_percentage_error: 181.2589 - val_root_mean_squared_error: 4.9705\n",
      "Epoch 48/100\n",
      "\u001b[1m363/363\u001b[0m \u001b[32m━━━━━━━━━━━━━━━━━━━━\u001b[0m\u001b[37m\u001b[0m \u001b[1m0s\u001b[0m 449us/step - loss: 0.2918 - mean_absolute_percentage_error: 21.4479 - root_mean_squared_error: 0.5401 - val_loss: 24.3724 - val_mean_absolute_percentage_error: 179.9239 - val_root_mean_squared_error: 4.9368\n",
      "Epoch 49/100\n",
      "\u001b[1m363/363\u001b[0m \u001b[32m━━━━━━━━━━━━━━━━━━━━\u001b[0m\u001b[37m\u001b[0m \u001b[1m0s\u001b[0m 667us/step - loss: 0.3031 - mean_absolute_percentage_error: 21.4585 - root_mean_squared_error: 0.5504 - val_loss: 24.4465 - val_mean_absolute_percentage_error: 180.2090 - val_root_mean_squared_error: 4.9443\n",
      "Epoch 50/100\n",
      "\u001b[1m363/363\u001b[0m \u001b[32m━━━━━━━━━━━━━━━━━━━━\u001b[0m\u001b[37m\u001b[0m \u001b[1m0s\u001b[0m 475us/step - loss: 0.3063 - mean_absolute_percentage_error: 21.7765 - root_mean_squared_error: 0.5533 - val_loss: 25.2383 - val_mean_absolute_percentage_error: 182.8747 - val_root_mean_squared_error: 5.0238\n",
      "Epoch 51/100\n",
      "\u001b[1m363/363\u001b[0m \u001b[32m━━━━━━━━━━━━━━━━━━━━\u001b[0m\u001b[37m\u001b[0m \u001b[1m0s\u001b[0m 449us/step - loss: 0.3008 - mean_absolute_percentage_error: 21.7345 - root_mean_squared_error: 0.5478 - val_loss: 22.0422 - val_mean_absolute_percentage_error: 170.8447 - val_root_mean_squared_error: 4.6949\n",
      "Epoch 52/100\n",
      "\u001b[1m363/363\u001b[0m \u001b[32m━━━━━━━━━━━━━━━━━━━━\u001b[0m\u001b[37m\u001b[0m \u001b[1m0s\u001b[0m 440us/step - loss: 0.3479 - mean_absolute_percentage_error: 22.4282 - root_mean_squared_error: 0.5893 - val_loss: 21.3468 - val_mean_absolute_percentage_error: 167.5340 - val_root_mean_squared_error: 4.6203\n",
      "Epoch 53/100\n",
      "\u001b[1m363/363\u001b[0m \u001b[32m━━━━━━━━━━━━━━━━━━━━\u001b[0m\u001b[37m\u001b[0m \u001b[1m0s\u001b[0m 462us/step - loss: 0.3080 - mean_absolute_percentage_error: 21.6874 - root_mean_squared_error: 0.5549 - val_loss: 21.2917 - val_mean_absolute_percentage_error: 168.7080 - val_root_mean_squared_error: 4.6143\n",
      "Epoch 54/100\n",
      "\u001b[1m363/363\u001b[0m \u001b[32m━━━━━━━━━━━━━━━━━━━━\u001b[0m\u001b[37m\u001b[0m \u001b[1m0s\u001b[0m 443us/step - loss: 0.2988 - mean_absolute_percentage_error: 21.8772 - root_mean_squared_error: 0.5465 - val_loss: 21.6698 - val_mean_absolute_percentage_error: 170.4808 - val_root_mean_squared_error: 4.6551\n",
      "Epoch 55/100\n",
      "\u001b[1m363/363\u001b[0m \u001b[32m━━━━━━━━━━━━━━━━━━━━\u001b[0m\u001b[37m\u001b[0m \u001b[1m0s\u001b[0m 468us/step - loss: 0.3181 - mean_absolute_percentage_error: 21.8347 - root_mean_squared_error: 0.5635 - val_loss: 21.8251 - val_mean_absolute_percentage_error: 170.1477 - val_root_mean_squared_error: 4.6717\n",
      "Epoch 56/100\n",
      "\u001b[1m363/363\u001b[0m \u001b[32m━━━━━━━━━━━━━━━━━━━━\u001b[0m\u001b[37m\u001b[0m \u001b[1m0s\u001b[0m 512us/step - loss: 0.3061 - mean_absolute_percentage_error: 21.9858 - root_mean_squared_error: 0.5531 - val_loss: 21.8744 - val_mean_absolute_percentage_error: 170.0994 - val_root_mean_squared_error: 4.6770\n",
      "Epoch 57/100\n",
      "\u001b[1m363/363\u001b[0m \u001b[32m━━━━━━━━━━━━━━━━━━━━\u001b[0m\u001b[37m\u001b[0m \u001b[1m0s\u001b[0m 471us/step - loss: 0.3058 - mean_absolute_percentage_error: 21.5539 - root_mean_squared_error: 0.5525 - val_loss: 22.3637 - val_mean_absolute_percentage_error: 173.4145 - val_root_mean_squared_error: 4.7290\n",
      "Epoch 58/100\n",
      "\u001b[1m363/363\u001b[0m \u001b[32m━━━━━━━━━━━━━━━━━━━━\u001b[0m\u001b[37m\u001b[0m \u001b[1m0s\u001b[0m 467us/step - loss: 0.3049 - mean_absolute_percentage_error: 21.9512 - root_mean_squared_error: 0.5518 - val_loss: 22.7149 - val_mean_absolute_percentage_error: 174.5420 - val_root_mean_squared_error: 4.7660\n",
      "Epoch 59/100\n",
      "\u001b[1m363/363\u001b[0m \u001b[32m━━━━━━━━━━━━━━━━━━━━\u001b[0m\u001b[37m\u001b[0m \u001b[1m0s\u001b[0m 540us/step - loss: 0.2923 - mean_absolute_percentage_error: 21.3188 - root_mean_squared_error: 0.5405 - val_loss: 22.4223 - val_mean_absolute_percentage_error: 171.6785 - val_root_mean_squared_error: 4.7352\n",
      "Epoch 60/100\n",
      "\u001b[1m363/363\u001b[0m \u001b[32m━━━━━━━━━━━━━━━━━━━━\u001b[0m\u001b[37m\u001b[0m \u001b[1m0s\u001b[0m 444us/step - loss: 0.2857 - mean_absolute_percentage_error: 21.2118 - root_mean_squared_error: 0.5341 - val_loss: 23.1844 - val_mean_absolute_percentage_error: 175.6812 - val_root_mean_squared_error: 4.8150\n",
      "Epoch 61/100\n",
      "\u001b[1m363/363\u001b[0m \u001b[32m━━━━━━━━━━━━━━━━━━━━\u001b[0m\u001b[37m\u001b[0m \u001b[1m0s\u001b[0m 447us/step - loss: 0.2875 - mean_absolute_percentage_error: 21.2205 - root_mean_squared_error: 0.5358 - val_loss: 23.0985 - val_mean_absolute_percentage_error: 174.0695 - val_root_mean_squared_error: 4.8061\n",
      "Epoch 62/100\n",
      "\u001b[1m363/363\u001b[0m \u001b[32m━━━━━━━━━━━━━━━━━━━━\u001b[0m\u001b[37m\u001b[0m \u001b[1m0s\u001b[0m 458us/step - loss: 0.2870 - mean_absolute_percentage_error: 20.9808 - root_mean_squared_error: 0.5355 - val_loss: 23.0283 - val_mean_absolute_percentage_error: 173.3449 - val_root_mean_squared_error: 4.7988\n",
      "Epoch 63/100\n",
      "\u001b[1m363/363\u001b[0m \u001b[32m━━━━━━━━━━━━━━━━━━━━\u001b[0m\u001b[37m\u001b[0m \u001b[1m0s\u001b[0m 448us/step - loss: 0.3001 - mean_absolute_percentage_error: 21.4715 - root_mean_squared_error: 0.5478 - val_loss: 24.4338 - val_mean_absolute_percentage_error: 180.0029 - val_root_mean_squared_error: 4.9431\n",
      "Epoch 64/100\n",
      "\u001b[1m363/363\u001b[0m \u001b[32m━━━━━━━━━━━━━━━━━━━━\u001b[0m\u001b[37m\u001b[0m \u001b[1m0s\u001b[0m 444us/step - loss: 0.2993 - mean_absolute_percentage_error: 21.6911 - root_mean_squared_error: 0.5470 - val_loss: 23.9079 - val_mean_absolute_percentage_error: 178.1836 - val_root_mean_squared_error: 4.8896\n",
      "Epoch 65/100\n",
      "\u001b[1m363/363\u001b[0m \u001b[32m━━━━━━━━━━━━━━━━━━━━\u001b[0m\u001b[37m\u001b[0m \u001b[1m0s\u001b[0m 441us/step - loss: 0.3024 - mean_absolute_percentage_error: 21.4469 - root_mean_squared_error: 0.5494 - val_loss: 24.9254 - val_mean_absolute_percentage_error: 182.4738 - val_root_mean_squared_error: 4.9925\n",
      "Epoch 66/100\n",
      "\u001b[1m363/363\u001b[0m \u001b[32m━━━━━━━━━━━━━━━━━━━━\u001b[0m\u001b[37m\u001b[0m \u001b[1m0s\u001b[0m 443us/step - loss: 0.3004 - mean_absolute_percentage_error: 21.3704 - root_mean_squared_error: 0.5480 - val_loss: 24.3754 - val_mean_absolute_percentage_error: 179.4723 - val_root_mean_squared_error: 4.9371\n",
      "Epoch 67/100\n",
      "\u001b[1m363/363\u001b[0m \u001b[32m━━━━━━━━━━━━━━━━━━━━\u001b[0m\u001b[37m\u001b[0m \u001b[1m0s\u001b[0m 452us/step - loss: 0.2894 - mean_absolute_percentage_error: 20.8868 - root_mean_squared_error: 0.5377 - val_loss: 24.7138 - val_mean_absolute_percentage_error: 180.5419 - val_root_mean_squared_error: 4.9713\n",
      "Epoch 68/100\n",
      "\u001b[1m363/363\u001b[0m \u001b[32m━━━━━━━━━━━━━━━━━━━━\u001b[0m\u001b[37m\u001b[0m \u001b[1m0s\u001b[0m 443us/step - loss: 0.2919 - mean_absolute_percentage_error: 21.0546 - root_mean_squared_error: 0.5402 - val_loss: 25.2407 - val_mean_absolute_percentage_error: 182.7977 - val_root_mean_squared_error: 5.0240\n",
      "Epoch 69/100\n",
      "\u001b[1m363/363\u001b[0m \u001b[32m━━━━━━━━━━━━━━━━━━━━\u001b[0m\u001b[37m\u001b[0m \u001b[1m0s\u001b[0m 543us/step - loss: 0.2858 - mean_absolute_percentage_error: 20.9973 - root_mean_squared_error: 0.5344 - val_loss: 25.3082 - val_mean_absolute_percentage_error: 182.1772 - val_root_mean_squared_error: 5.0307\n",
      "Epoch 70/100\n",
      "\u001b[1m363/363\u001b[0m \u001b[32m━━━━━━━━━━━━━━━━━━━━\u001b[0m\u001b[37m\u001b[0m \u001b[1m0s\u001b[0m 440us/step - loss: 0.2856 - mean_absolute_percentage_error: 20.8150 - root_mean_squared_error: 0.5342 - val_loss: 24.9651 - val_mean_absolute_percentage_error: 181.4880 - val_root_mean_squared_error: 4.9965\n",
      "Epoch 71/100\n",
      "\u001b[1m363/363\u001b[0m \u001b[32m━━━━━━━━━━━━━━━━━━━━\u001b[0m\u001b[37m\u001b[0m \u001b[1m0s\u001b[0m 447us/step - loss: 0.2892 - mean_absolute_percentage_error: 21.4438 - root_mean_squared_error: 0.5376 - val_loss: 25.9665 - val_mean_absolute_percentage_error: 185.0056 - val_root_mean_squared_error: 5.0957\n",
      "Epoch 72/100\n",
      "\u001b[1m363/363\u001b[0m \u001b[32m━━━━━━━━━━━━━━━━━━━━\u001b[0m\u001b[37m\u001b[0m \u001b[1m0s\u001b[0m 443us/step - loss: 0.2933 - mean_absolute_percentage_error: 20.8669 - root_mean_squared_error: 0.5414 - val_loss: 25.8580 - val_mean_absolute_percentage_error: 185.2806 - val_root_mean_squared_error: 5.0851\n",
      "Epoch 73/100\n",
      "\u001b[1m363/363\u001b[0m \u001b[32m━━━━━━━━━━━━━━━━━━━━\u001b[0m\u001b[37m\u001b[0m \u001b[1m0s\u001b[0m 443us/step - loss: 0.3112 - mean_absolute_percentage_error: 21.3618 - root_mean_squared_error: 0.5577 - val_loss: 26.1796 - val_mean_absolute_percentage_error: 186.0915 - val_root_mean_squared_error: 5.1166\n",
      "Epoch 74/100\n",
      "\u001b[1m363/363\u001b[0m \u001b[32m━━━━━━━━━━━━━━━━━━━━\u001b[0m\u001b[37m\u001b[0m \u001b[1m0s\u001b[0m 463us/step - loss: 0.2993 - mean_absolute_percentage_error: 21.0650 - root_mean_squared_error: 0.5467 - val_loss: 26.1293 - val_mean_absolute_percentage_error: 184.5269 - val_root_mean_squared_error: 5.1117\n",
      "Epoch 75/100\n",
      "\u001b[1m363/363\u001b[0m \u001b[32m━━━━━━━━━━━━━━━━━━━━\u001b[0m\u001b[37m\u001b[0m \u001b[1m0s\u001b[0m 444us/step - loss: 0.2746 - mean_absolute_percentage_error: 20.5755 - root_mean_squared_error: 0.5237 - val_loss: 26.8965 - val_mean_absolute_percentage_error: 190.9083 - val_root_mean_squared_error: 5.1862\n",
      "Epoch 76/100\n",
      "\u001b[1m363/363\u001b[0m \u001b[32m━━━━━━━━━━━━━━━━━━━━\u001b[0m\u001b[37m\u001b[0m \u001b[1m0s\u001b[0m 454us/step - loss: 0.2966 - mean_absolute_percentage_error: 21.4316 - root_mean_squared_error: 0.5445 - val_loss: 26.0218 - val_mean_absolute_percentage_error: 185.4590 - val_root_mean_squared_error: 5.1012\n",
      "Epoch 77/100\n",
      "\u001b[1m363/363\u001b[0m \u001b[32m━━━━━━━━━━━━━━━━━━━━\u001b[0m\u001b[37m\u001b[0m \u001b[1m0s\u001b[0m 440us/step - loss: 0.2920 - mean_absolute_percentage_error: 21.0434 - root_mean_squared_error: 0.5403 - val_loss: 27.2363 - val_mean_absolute_percentage_error: 189.5339 - val_root_mean_squared_error: 5.2188\n",
      "Epoch 78/100\n",
      "\u001b[1m363/363\u001b[0m \u001b[32m━━━━━━━━━━━━━━━━━━━━\u001b[0m\u001b[37m\u001b[0m \u001b[1m0s\u001b[0m 444us/step - loss: 0.2959 - mean_absolute_percentage_error: 20.9734 - root_mean_squared_error: 0.5439 - val_loss: 27.4513 - val_mean_absolute_percentage_error: 190.2433 - val_root_mean_squared_error: 5.2394\n",
      "Epoch 79/100\n",
      "\u001b[1m363/363\u001b[0m \u001b[32m━━━━━━━━━━━━━━━━━━━━\u001b[0m\u001b[37m\u001b[0m \u001b[1m0s\u001b[0m 444us/step - loss: 0.2732 - mean_absolute_percentage_error: 21.1218 - root_mean_squared_error: 0.5226 - val_loss: 28.1159 - val_mean_absolute_percentage_error: 192.8518 - val_root_mean_squared_error: 5.3024\n",
      "Epoch 80/100\n",
      "\u001b[1m363/363\u001b[0m \u001b[32m━━━━━━━━━━━━━━━━━━━━\u001b[0m\u001b[37m\u001b[0m \u001b[1m0s\u001b[0m 440us/step - loss: 0.2880 - mean_absolute_percentage_error: 21.3100 - root_mean_squared_error: 0.5365 - val_loss: 27.2691 - val_mean_absolute_percentage_error: 188.2633 - val_root_mean_squared_error: 5.2220\n",
      "Epoch 81/100\n",
      "\u001b[1m363/363\u001b[0m \u001b[32m━━━━━━━━━━━━━━━━━━━━\u001b[0m\u001b[37m\u001b[0m \u001b[1m0s\u001b[0m 447us/step - loss: 0.2822 - mean_absolute_percentage_error: 20.6790 - root_mean_squared_error: 0.5309 - val_loss: 28.5611 - val_mean_absolute_percentage_error: 195.3447 - val_root_mean_squared_error: 5.3443\n",
      "Epoch 82/100\n",
      "\u001b[1m363/363\u001b[0m \u001b[32m━━━━━━━━━━━━━━━━━━━━\u001b[0m\u001b[37m\u001b[0m \u001b[1m0s\u001b[0m 442us/step - loss: 0.2790 - mean_absolute_percentage_error: 20.2619 - root_mean_squared_error: 0.5281 - val_loss: 28.6188 - val_mean_absolute_percentage_error: 195.5461 - val_root_mean_squared_error: 5.3497\n",
      "Epoch 83/100\n",
      "\u001b[1m363/363\u001b[0m \u001b[32m━━━━━━━━━━━━━━━━━━━━\u001b[0m\u001b[37m\u001b[0m \u001b[1m0s\u001b[0m 441us/step - loss: 0.2965 - mean_absolute_percentage_error: 21.6695 - root_mean_squared_error: 0.5444 - val_loss: 28.0610 - val_mean_absolute_percentage_error: 193.1207 - val_root_mean_squared_error: 5.2973\n",
      "Epoch 84/100\n",
      "\u001b[1m363/363\u001b[0m \u001b[32m━━━━━━━━━━━━━━━━━━━━\u001b[0m\u001b[37m\u001b[0m \u001b[1m0s\u001b[0m 443us/step - loss: 0.2933 - mean_absolute_percentage_error: 21.1225 - root_mean_squared_error: 0.5412 - val_loss: 27.1389 - val_mean_absolute_percentage_error: 189.1145 - val_root_mean_squared_error: 5.2095\n",
      "Epoch 85/100\n",
      "\u001b[1m363/363\u001b[0m \u001b[32m━━━━━━━━━━━━━━━━━━━━\u001b[0m\u001b[37m\u001b[0m \u001b[1m0s\u001b[0m 443us/step - loss: 0.2925 - mean_absolute_percentage_error: 21.2587 - root_mean_squared_error: 0.5408 - val_loss: 28.9313 - val_mean_absolute_percentage_error: 196.8607 - val_root_mean_squared_error: 5.3788\n",
      "Epoch 86/100\n",
      "\u001b[1m363/363\u001b[0m \u001b[32m━━━━━━━━━━━━━━━━━━━━\u001b[0m\u001b[37m\u001b[0m \u001b[1m0s\u001b[0m 446us/step - loss: 0.3340 - mean_absolute_percentage_error: 21.8370 - root_mean_squared_error: 0.5768 - val_loss: 26.6881 - val_mean_absolute_percentage_error: 186.8562 - val_root_mean_squared_error: 5.1660\n",
      "Epoch 87/100\n",
      "\u001b[1m363/363\u001b[0m \u001b[32m━━━━━━━━━━━━━━━━━━━━\u001b[0m\u001b[37m\u001b[0m \u001b[1m0s\u001b[0m 572us/step - loss: 0.2959 - mean_absolute_percentage_error: 20.8619 - root_mean_squared_error: 0.5438 - val_loss: 27.7601 - val_mean_absolute_percentage_error: 192.3612 - val_root_mean_squared_error: 5.2688\n",
      "Epoch 88/100\n",
      "\u001b[1m363/363\u001b[0m \u001b[32m━━━━━━━━━━━━━━━━━━━━\u001b[0m\u001b[37m\u001b[0m \u001b[1m0s\u001b[0m 443us/step - loss: 0.2819 - mean_absolute_percentage_error: 20.8878 - root_mean_squared_error: 0.5309 - val_loss: 27.1828 - val_mean_absolute_percentage_error: 190.0042 - val_root_mean_squared_error: 5.2137\n",
      "Epoch 89/100\n",
      "\u001b[1m363/363\u001b[0m \u001b[32m━━━━━━━━━━━━━━━━━━━━\u001b[0m\u001b[37m\u001b[0m \u001b[1m0s\u001b[0m 449us/step - loss: 0.2903 - mean_absolute_percentage_error: 20.8583 - root_mean_squared_error: 0.5387 - val_loss: 26.9494 - val_mean_absolute_percentage_error: 188.3670 - val_root_mean_squared_error: 5.1913\n",
      "Epoch 90/100\n",
      "\u001b[1m363/363\u001b[0m \u001b[32m━━━━━━━━━━━━━━━━━━━━\u001b[0m\u001b[37m\u001b[0m \u001b[1m0s\u001b[0m 440us/step - loss: 0.2986 - mean_absolute_percentage_error: 21.3642 - root_mean_squared_error: 0.5464 - val_loss: 26.7914 - val_mean_absolute_percentage_error: 187.6225 - val_root_mean_squared_error: 5.1760\n",
      "Epoch 91/100\n",
      "\u001b[1m363/363\u001b[0m \u001b[32m━━━━━━━━━━━━━━━━━━━━\u001b[0m\u001b[37m\u001b[0m \u001b[1m0s\u001b[0m 450us/step - loss: 0.2804 - mean_absolute_percentage_error: 20.7967 - root_mean_squared_error: 0.5292 - val_loss: 28.5614 - val_mean_absolute_percentage_error: 195.0353 - val_root_mean_squared_error: 5.3443\n",
      "Epoch 92/100\n",
      "\u001b[1m363/363\u001b[0m \u001b[32m━━━━━━━━━━━━━━━━━━━━\u001b[0m\u001b[37m\u001b[0m \u001b[1m0s\u001b[0m 455us/step - loss: 0.2787 - mean_absolute_percentage_error: 20.7428 - root_mean_squared_error: 0.5279 - val_loss: 28.9455 - val_mean_absolute_percentage_error: 195.9187 - val_root_mean_squared_error: 5.3801\n",
      "Epoch 93/100\n",
      "\u001b[1m363/363\u001b[0m \u001b[32m━━━━━━━━━━━━━━━━━━━━\u001b[0m\u001b[37m\u001b[0m \u001b[1m0s\u001b[0m 486us/step - loss: 0.2827 - mean_absolute_percentage_error: 20.8693 - root_mean_squared_error: 0.5317 - val_loss: 28.6692 - val_mean_absolute_percentage_error: 193.7238 - val_root_mean_squared_error: 5.3544\n",
      "Epoch 94/100\n",
      "\u001b[1m363/363\u001b[0m \u001b[32m━━━━━━━━━━━━━━━━━━━━\u001b[0m\u001b[37m\u001b[0m \u001b[1m0s\u001b[0m 459us/step - loss: 0.2960 - mean_absolute_percentage_error: 21.1562 - root_mean_squared_error: 0.5438 - val_loss: 29.8471 - val_mean_absolute_percentage_error: 200.3983 - val_root_mean_squared_error: 5.4633\n",
      "Epoch 95/100\n",
      "\u001b[1m363/363\u001b[0m \u001b[32m━━━━━━━━━━━━━━━━━━━━\u001b[0m\u001b[37m\u001b[0m \u001b[1m0s\u001b[0m 461us/step - loss: 0.2866 - mean_absolute_percentage_error: 20.5367 - root_mean_squared_error: 0.5353 - val_loss: 29.9145 - val_mean_absolute_percentage_error: 199.8788 - val_root_mean_squared_error: 5.4694\n",
      "Epoch 96/100\n",
      "\u001b[1m363/363\u001b[0m \u001b[32m━━━━━━━━━━━━━━━━━━━━\u001b[0m\u001b[37m\u001b[0m \u001b[1m0s\u001b[0m 478us/step - loss: 0.2796 - mean_absolute_percentage_error: 20.7748 - root_mean_squared_error: 0.5287 - val_loss: 30.5285 - val_mean_absolute_percentage_error: 201.2683 - val_root_mean_squared_error: 5.5253\n",
      "Epoch 97/100\n",
      "\u001b[1m363/363\u001b[0m \u001b[32m━━━━━━━━━━━━━━━━━━━━\u001b[0m\u001b[37m\u001b[0m \u001b[1m0s\u001b[0m 444us/step - loss: 0.2836 - mean_absolute_percentage_error: 20.8506 - root_mean_squared_error: 0.5323 - val_loss: 30.2554 - val_mean_absolute_percentage_error: 199.5410 - val_root_mean_squared_error: 5.5005\n",
      "Epoch 98/100\n",
      "\u001b[1m363/363\u001b[0m \u001b[32m━━━━━━━━━━━━━━━━━━━━\u001b[0m\u001b[37m\u001b[0m \u001b[1m0s\u001b[0m 457us/step - loss: 0.2913 - mean_absolute_percentage_error: 21.0451 - root_mean_squared_error: 0.5395 - val_loss: 30.6637 - val_mean_absolute_percentage_error: 202.5600 - val_root_mean_squared_error: 5.5375\n",
      "Epoch 99/100\n",
      "\u001b[1m363/363\u001b[0m \u001b[32m━━━━━━━━━━━━━━━━━━━━\u001b[0m\u001b[37m\u001b[0m \u001b[1m0s\u001b[0m 440us/step - loss: 0.2774 - mean_absolute_percentage_error: 20.2882 - root_mean_squared_error: 0.5266 - val_loss: 30.6982 - val_mean_absolute_percentage_error: 201.8703 - val_root_mean_squared_error: 5.5406\n",
      "Epoch 100/100\n",
      "\u001b[1m363/363\u001b[0m \u001b[32m━━━━━━━━━━━━━━━━━━━━\u001b[0m\u001b[37m\u001b[0m \u001b[1m0s\u001b[0m 833us/step - loss: 0.2771 - mean_absolute_percentage_error: 20.5425 - root_mean_squared_error: 0.5263 - val_loss: 31.3322 - val_mean_absolute_percentage_error: 204.0753 - val_root_mean_squared_error: 5.5975\n"
     ]
    }
   ],
   "source": [
    "history = model.fit(X_train, y_train, epochs=100, validation_data=(X_valid, y_valid))"
   ]
  },
  {
   "cell_type": "code",
   "execution_count": 100,
   "metadata": {},
   "outputs": [
    {
     "name": "stdout",
     "output_type": "stream",
     "text": [
      "\u001b[1m162/162\u001b[0m \u001b[32m━━━━━━━━━━━━━━━━━━━━\u001b[0m\u001b[37m\u001b[0m \u001b[1m0s\u001b[0m 346us/step - loss: 0.3243 - mean_absolute_percentage_error: 23.5011 - root_mean_squared_error: 0.5692\n"
     ]
    }
   ],
   "source": [
    "mse_test = model.evaluate(X_test, y_test)"
   ]
  },
  {
   "cell_type": "code",
   "execution_count": 101,
   "metadata": {},
   "outputs": [
    {
     "name": "stdout",
     "output_type": "stream",
     "text": [
      "\u001b[1m162/162\u001b[0m \u001b[32m━━━━━━━━━━━━━━━━━━━━\u001b[0m\u001b[37m\u001b[0m \u001b[1m0s\u001b[0m 393us/step\n"
     ]
    }
   ],
   "source": [
    "y_pred = model.predict(X_test)"
   ]
  },
  {
   "cell_type": "code",
   "execution_count": 102,
   "metadata": {},
   "outputs": [
    {
     "data": {
      "text/plain": [
       "0.75791505274179"
      ]
     },
     "execution_count": 102,
     "metadata": {},
     "output_type": "execute_result"
    }
   ],
   "source": [
    "from sklearn.metrics import r2_score\n",
    "\n",
    "r2=r2_score(y_test, y_pred)\n",
    "r2"
   ]
  }
 ],
 "metadata": {
  "kernelspec": {
   "display_name": "Python 3",
   "language": "python",
   "name": "python3"
  },
  "language_info": {
   "codemirror_mode": {
    "name": "ipython",
    "version": 3
   },
   "file_extension": ".py",
   "mimetype": "text/x-python",
   "name": "python",
   "nbconvert_exporter": "python",
   "pygments_lexer": "ipython3",
   "version": "3.9.6"
  }
 },
 "nbformat": 4,
 "nbformat_minor": 2
}
