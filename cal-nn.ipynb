{
 "cells": [
  {
   "cell_type": "code",
   "execution_count": 14,
   "metadata": {},
   "outputs": [],
   "source": [
    "from sklearn.datasets import fetch_california_housing\n",
    "import tensorflow as tf"
   ]
  },
  {
   "cell_type": "code",
   "execution_count": 15,
   "metadata": {},
   "outputs": [],
   "source": [
    "house = fetch_california_housing()\n",
    "X = house.data\n",
    "y = house.target"
   ]
  },
  {
   "cell_type": "code",
   "execution_count": 16,
   "metadata": {},
   "outputs": [
    {
     "data": {
      "text/plain": [
       "((20640, 8), (20640,))"
      ]
     },
     "execution_count": 16,
     "metadata": {},
     "output_type": "execute_result"
    }
   ],
   "source": [
    "X.shape, y.shape"
   ]
  },
  {
   "cell_type": "code",
   "execution_count": 17,
   "metadata": {},
   "outputs": [
    {
     "data": {
      "text/plain": [
       "(11610, 8)"
      ]
     },
     "execution_count": 17,
     "metadata": {},
     "output_type": "execute_result"
    }
   ],
   "source": [
    "from sklearn.model_selection import train_test_split\n",
    "\n",
    "X_train_full, X_test, y_train_full, y_test = train_test_split(X,y)\n",
    "X_train, X_valid, y_train, y_valid = train_test_split(X_train_full, y_train_full)\n",
    "X_train.shape"
   ]
  },
  {
   "cell_type": "code",
   "execution_count": 18,
   "metadata": {},
   "outputs": [],
   "source": [
    "from sklearn.preprocessing import StandardScaler\n",
    "\n",
    "std = StandardScaler()\n",
    "X_train = std.fit_transform(X_train)\n",
    "X_test = std.fit_transform(X_test)\n",
    "X_valid = std.fit_transform(X_valid)"
   ]
  },
  {
   "cell_type": "code",
   "execution_count": 19,
   "metadata": {},
   "outputs": [],
   "source": [
    "import keras\n",
    "from keras.models import Sequential\n",
    "from keras.layers import Dense, Dropout"
   ]
  },
  {
   "cell_type": "code",
   "execution_count": 20,
   "metadata": {},
   "outputs": [
    {
     "name": "stderr",
     "output_type": "stream",
     "text": [
      "/Users/bhagya/Library/Python/3.9/lib/python/site-packages/keras/src/layers/core/dense.py:87: UserWarning: Do not pass an `input_shape`/`input_dim` argument to a layer. When using Sequential models, prefer using an `Input(shape)` object as the first layer in the model instead.\n",
      "  super().__init__(activity_regularizer=activity_regularizer, **kwargs)\n"
     ]
    }
   ],
   "source": [
    "model = Sequential()\n",
    "model.add(Dense(64, activation = 'relu', input_shape = X_train.shape[1:]))\n",
    "model.add(Dense(1))"
   ]
  },
  {
   "cell_type": "code",
   "execution_count": 21,
   "metadata": {},
   "outputs": [],
   "source": [
    "model.compile(loss = 'mean_squared_error', optimizer = 'sgd',metrics=[tf.keras.metrics.RootMeanSquaredError(), 'mean_absolute_percentage_error'] )"
   ]
  },
  {
   "cell_type": "code",
   "execution_count": 22,
   "metadata": {},
   "outputs": [
    {
     "name": "stdout",
     "output_type": "stream",
     "text": [
      "Epoch 1/100\n"
     ]
    },
    {
     "name": "stdout",
     "output_type": "stream",
     "text": [
      "\u001b[1m363/363\u001b[0m \u001b[32m━━━━━━━━━━━━━━━━━━━━\u001b[0m\u001b[37m\u001b[0m \u001b[1m0s\u001b[0m 618us/step - loss: 1.3256 - mean_absolute_percentage_error: 43.7371 - root_mean_squared_error: 1.1101 - val_loss: 0.5473 - val_mean_absolute_percentage_error: 30.7170 - val_root_mean_squared_error: 0.7398\n",
      "Epoch 2/100\n",
      "\u001b[1m363/363\u001b[0m \u001b[32m━━━━━━━━━━━━━━━━━━━━\u001b[0m\u001b[37m\u001b[0m \u001b[1m0s\u001b[0m 424us/step - loss: 0.6034 - mean_absolute_percentage_error: 30.8419 - root_mean_squared_error: 0.7754 - val_loss: 1.0110 - val_mean_absolute_percentage_error: 30.9010 - val_root_mean_squared_error: 1.0055\n",
      "Epoch 3/100\n",
      "\u001b[1m363/363\u001b[0m \u001b[32m━━━━━━━━━━━━━━━━━━━━\u001b[0m\u001b[37m\u001b[0m \u001b[1m0s\u001b[0m 417us/step - loss: 0.6191 - mean_absolute_percentage_error: 29.0369 - root_mean_squared_error: 0.7829 - val_loss: 1.8197 - val_mean_absolute_percentage_error: 33.2117 - val_root_mean_squared_error: 1.3490\n",
      "Epoch 4/100\n",
      "\u001b[1m363/363\u001b[0m \u001b[32m━━━━━━━━━━━━━━━━━━━━\u001b[0m\u001b[37m\u001b[0m \u001b[1m0s\u001b[0m 436us/step - loss: 0.5960 - mean_absolute_percentage_error: 28.9012 - root_mean_squared_error: 0.7624 - val_loss: 0.5638 - val_mean_absolute_percentage_error: 32.4128 - val_root_mean_squared_error: 0.7508\n",
      "Epoch 5/100\n",
      "\u001b[1m363/363\u001b[0m \u001b[32m━━━━━━━━━━━━━━━━━━━━\u001b[0m\u001b[37m\u001b[0m \u001b[1m0s\u001b[0m 430us/step - loss: 0.4289 - mean_absolute_percentage_error: 26.8052 - root_mean_squared_error: 0.6548 - val_loss: 0.4608 - val_mean_absolute_percentage_error: 29.7780 - val_root_mean_squared_error: 0.6788\n",
      "Epoch 6/100\n",
      "\u001b[1m363/363\u001b[0m \u001b[32m━━━━━━━━━━━━━━━━━━━━\u001b[0m\u001b[37m\u001b[0m \u001b[1m0s\u001b[0m 423us/step - loss: 0.3773 - mean_absolute_percentage_error: 25.0931 - root_mean_squared_error: 0.6142 - val_loss: 0.4386 - val_mean_absolute_percentage_error: 26.1650 - val_root_mean_squared_error: 0.6623\n",
      "Epoch 7/100\n",
      "\u001b[1m363/363\u001b[0m \u001b[32m━━━━━━━━━━━━━━━━━━━━\u001b[0m\u001b[37m\u001b[0m \u001b[1m0s\u001b[0m 416us/step - loss: 0.3764 - mean_absolute_percentage_error: 24.4937 - root_mean_squared_error: 0.6133 - val_loss: 0.4364 - val_mean_absolute_percentage_error: 25.1170 - val_root_mean_squared_error: 0.6606\n",
      "Epoch 8/100\n",
      "\u001b[1m363/363\u001b[0m \u001b[32m━━━━━━━━━━━━━━━━━━━━\u001b[0m\u001b[37m\u001b[0m \u001b[1m0s\u001b[0m 416us/step - loss: 0.3598 - mean_absolute_percentage_error: 23.7373 - root_mean_squared_error: 0.5995 - val_loss: 0.4221 - val_mean_absolute_percentage_error: 26.5972 - val_root_mean_squared_error: 0.6497\n",
      "Epoch 9/100\n",
      "\u001b[1m363/363\u001b[0m \u001b[32m━━━━━━━━━━━━━━━━━━━━\u001b[0m\u001b[37m\u001b[0m \u001b[1m0s\u001b[0m 419us/step - loss: 0.3552 - mean_absolute_percentage_error: 24.1146 - root_mean_squared_error: 0.5959 - val_loss: 0.4196 - val_mean_absolute_percentage_error: 25.6701 - val_root_mean_squared_error: 0.6478\n",
      "Epoch 10/100\n",
      "\u001b[1m363/363\u001b[0m \u001b[32m━━━━━━━━━━━━━━━━━━━━\u001b[0m\u001b[37m\u001b[0m \u001b[1m0s\u001b[0m 418us/step - loss: 0.3631 - mean_absolute_percentage_error: 23.8435 - root_mean_squared_error: 0.6024 - val_loss: 0.4221 - val_mean_absolute_percentage_error: 25.7939 - val_root_mean_squared_error: 0.6497\n",
      "Epoch 11/100\n",
      "\u001b[1m363/363\u001b[0m \u001b[32m━━━━━━━━━━━━━━━━━━━━\u001b[0m\u001b[37m\u001b[0m \u001b[1m0s\u001b[0m 436us/step - loss: 0.3461 - mean_absolute_percentage_error: 23.4557 - root_mean_squared_error: 0.5881 - val_loss: 0.4258 - val_mean_absolute_percentage_error: 26.4890 - val_root_mean_squared_error: 0.6525\n",
      "Epoch 12/100\n",
      "\u001b[1m363/363\u001b[0m \u001b[32m━━━━━━━━━━━━━━━━━━━━\u001b[0m\u001b[37m\u001b[0m \u001b[1m0s\u001b[0m 435us/step - loss: 0.3748 - mean_absolute_percentage_error: 23.8245 - root_mean_squared_error: 0.6115 - val_loss: 0.5722 - val_mean_absolute_percentage_error: 28.4007 - val_root_mean_squared_error: 0.7565\n",
      "Epoch 13/100\n",
      "\u001b[1m363/363\u001b[0m \u001b[32m━━━━━━━━━━━━━━━━━━━━\u001b[0m\u001b[37m\u001b[0m \u001b[1m0s\u001b[0m 441us/step - loss: 0.3784 - mean_absolute_percentage_error: 24.3771 - root_mean_squared_error: 0.6149 - val_loss: 0.4241 - val_mean_absolute_percentage_error: 26.3310 - val_root_mean_squared_error: 0.6512\n",
      "Epoch 14/100\n",
      "\u001b[1m363/363\u001b[0m \u001b[32m━━━━━━━━━━━━━━━━━━━━\u001b[0m\u001b[37m\u001b[0m \u001b[1m0s\u001b[0m 437us/step - loss: 0.3568 - mean_absolute_percentage_error: 23.8054 - root_mean_squared_error: 0.5971 - val_loss: 0.4344 - val_mean_absolute_percentage_error: 25.3603 - val_root_mean_squared_error: 0.6591\n",
      "Epoch 15/100\n",
      "\u001b[1m363/363\u001b[0m \u001b[32m━━━━━━━━━━━━━━━━━━━━\u001b[0m\u001b[37m\u001b[0m \u001b[1m0s\u001b[0m 477us/step - loss: 0.3434 - mean_absolute_percentage_error: 23.6887 - root_mean_squared_error: 0.5859 - val_loss: 0.4230 - val_mean_absolute_percentage_error: 25.9529 - val_root_mean_squared_error: 0.6504\n",
      "Epoch 16/100\n",
      "\u001b[1m363/363\u001b[0m \u001b[32m━━━━━━━━━━━━━━━━━━━━\u001b[0m\u001b[37m\u001b[0m \u001b[1m0s\u001b[0m 424us/step - loss: 0.3468 - mean_absolute_percentage_error: 23.1267 - root_mean_squared_error: 0.5888 - val_loss: 0.4185 - val_mean_absolute_percentage_error: 24.7687 - val_root_mean_squared_error: 0.6469\n",
      "Epoch 17/100\n",
      "\u001b[1m363/363\u001b[0m \u001b[32m━━━━━━━━━━━━━━━━━━━━\u001b[0m\u001b[37m\u001b[0m \u001b[1m0s\u001b[0m 434us/step - loss: 0.4599 - mean_absolute_percentage_error: 24.5508 - root_mean_squared_error: 0.6731 - val_loss: 0.5317 - val_mean_absolute_percentage_error: 29.2101 - val_root_mean_squared_error: 0.7292\n",
      "Epoch 18/100\n",
      "\u001b[1m363/363\u001b[0m \u001b[32m━━━━━━━━━━━━━━━━━━━━\u001b[0m\u001b[37m\u001b[0m \u001b[1m0s\u001b[0m 443us/step - loss: 0.3937 - mean_absolute_percentage_error: 24.6261 - root_mean_squared_error: 0.6269 - val_loss: 0.4483 - val_mean_absolute_percentage_error: 27.0013 - val_root_mean_squared_error: 0.6695\n",
      "Epoch 19/100\n",
      "\u001b[1m363/363\u001b[0m \u001b[32m━━━━━━━━━━━━━━━━━━━━\u001b[0m\u001b[37m\u001b[0m \u001b[1m0s\u001b[0m 430us/step - loss: 0.3451 - mean_absolute_percentage_error: 24.1232 - root_mean_squared_error: 0.5874 - val_loss: 0.4361 - val_mean_absolute_percentage_error: 26.5421 - val_root_mean_squared_error: 0.6604\n",
      "Epoch 20/100\n",
      "\u001b[1m363/363\u001b[0m \u001b[32m━━━━━━━━━━━━━━━━━━━━\u001b[0m\u001b[37m\u001b[0m \u001b[1m0s\u001b[0m 419us/step - loss: 0.3399 - mean_absolute_percentage_error: 23.8495 - root_mean_squared_error: 0.5829 - val_loss: 0.4224 - val_mean_absolute_percentage_error: 27.2477 - val_root_mean_squared_error: 0.6499\n",
      "Epoch 21/100\n",
      "\u001b[1m363/363\u001b[0m \u001b[32m━━━━━━━━━━━━━━━━━━━━\u001b[0m\u001b[37m\u001b[0m \u001b[1m0s\u001b[0m 422us/step - loss: 0.3862 - mean_absolute_percentage_error: 24.3034 - root_mean_squared_error: 0.6211 - val_loss: 0.4432 - val_mean_absolute_percentage_error: 29.1740 - val_root_mean_squared_error: 0.6658\n",
      "Epoch 22/100\n",
      "\u001b[1m363/363\u001b[0m \u001b[32m━━━━━━━━━━━━━━━━━━━━\u001b[0m\u001b[37m\u001b[0m \u001b[1m0s\u001b[0m 417us/step - loss: 0.3724 - mean_absolute_percentage_error: 24.4629 - root_mean_squared_error: 0.6099 - val_loss: 0.4406 - val_mean_absolute_percentage_error: 25.9415 - val_root_mean_squared_error: 0.6638\n",
      "Epoch 23/100\n",
      "\u001b[1m363/363\u001b[0m \u001b[32m━━━━━━━━━━━━━━━━━━━━\u001b[0m\u001b[37m\u001b[0m \u001b[1m0s\u001b[0m 419us/step - loss: 1.0474 - mean_absolute_percentage_error: 25.2546 - root_mean_squared_error: 0.9562 - val_loss: 0.4684 - val_mean_absolute_percentage_error: 29.5959 - val_root_mean_squared_error: 0.6844\n",
      "Epoch 24/100\n",
      "\u001b[1m363/363\u001b[0m \u001b[32m━━━━━━━━━━━━━━━━━━━━\u001b[0m\u001b[37m\u001b[0m \u001b[1m0s\u001b[0m 418us/step - loss: 0.3641 - mean_absolute_percentage_error: 24.8027 - root_mean_squared_error: 0.6033 - val_loss: 0.4328 - val_mean_absolute_percentage_error: 25.9302 - val_root_mean_squared_error: 0.6579\n",
      "Epoch 25/100\n",
      "\u001b[1m363/363\u001b[0m \u001b[32m━━━━━━━━━━━━━━━━━━━━\u001b[0m\u001b[37m\u001b[0m \u001b[1m0s\u001b[0m 422us/step - loss: 0.3549 - mean_absolute_percentage_error: 24.1307 - root_mean_squared_error: 0.5954 - val_loss: 0.4249 - val_mean_absolute_percentage_error: 26.1584 - val_root_mean_squared_error: 0.6519\n",
      "Epoch 26/100\n",
      "\u001b[1m363/363\u001b[0m \u001b[32m━━━━━━━━━━━━━━━━━━━━\u001b[0m\u001b[37m\u001b[0m \u001b[1m0s\u001b[0m 419us/step - loss: 0.3468 - mean_absolute_percentage_error: 23.6429 - root_mean_squared_error: 0.5889 - val_loss: 0.4708 - val_mean_absolute_percentage_error: 27.0144 - val_root_mean_squared_error: 0.6861\n",
      "Epoch 27/100\n",
      "\u001b[1m363/363\u001b[0m \u001b[32m━━━━━━━━━━━━━━━━━━━━\u001b[0m\u001b[37m\u001b[0m \u001b[1m0s\u001b[0m 420us/step - loss: 0.3503 - mean_absolute_percentage_error: 24.1303 - root_mean_squared_error: 0.5918 - val_loss: 0.4241 - val_mean_absolute_percentage_error: 26.3602 - val_root_mean_squared_error: 0.6512\n",
      "Epoch 28/100\n",
      "\u001b[1m363/363\u001b[0m \u001b[32m━━━━━━━━━━━━━━━━━━━━\u001b[0m\u001b[37m\u001b[0m \u001b[1m0s\u001b[0m 421us/step - loss: 0.3447 - mean_absolute_percentage_error: 23.4184 - root_mean_squared_error: 0.5871 - val_loss: 0.4250 - val_mean_absolute_percentage_error: 25.0144 - val_root_mean_squared_error: 0.6519\n",
      "Epoch 29/100\n",
      "\u001b[1m363/363\u001b[0m \u001b[32m━━━━━━━━━━━━━━━━━━━━\u001b[0m\u001b[37m\u001b[0m \u001b[1m0s\u001b[0m 419us/step - loss: 0.3294 - mean_absolute_percentage_error: 22.9821 - root_mean_squared_error: 0.5737 - val_loss: 0.4181 - val_mean_absolute_percentage_error: 26.1302 - val_root_mean_squared_error: 0.6466\n",
      "Epoch 30/100\n",
      "\u001b[1m363/363\u001b[0m \u001b[32m━━━━━━━━━━━━━━━━━━━━\u001b[0m\u001b[37m\u001b[0m \u001b[1m0s\u001b[0m 419us/step - loss: 0.3302 - mean_absolute_percentage_error: 22.7106 - root_mean_squared_error: 0.5745 - val_loss: 0.4143 - val_mean_absolute_percentage_error: 27.3070 - val_root_mean_squared_error: 0.6436\n",
      "Epoch 31/100\n",
      "\u001b[1m363/363\u001b[0m \u001b[32m━━━━━━━━━━━━━━━━━━━━\u001b[0m\u001b[37m\u001b[0m \u001b[1m0s\u001b[0m 421us/step - loss: 0.3425 - mean_absolute_percentage_error: 23.2330 - root_mean_squared_error: 0.5850 - val_loss: 0.4151 - val_mean_absolute_percentage_error: 25.6609 - val_root_mean_squared_error: 0.6443\n",
      "Epoch 32/100\n",
      "\u001b[1m363/363\u001b[0m \u001b[32m━━━━━━━━━━━━━━━━━━━━\u001b[0m\u001b[37m\u001b[0m \u001b[1m0s\u001b[0m 429us/step - loss: 0.3331 - mean_absolute_percentage_error: 23.4443 - root_mean_squared_error: 0.5770 - val_loss: 0.4683 - val_mean_absolute_percentage_error: 27.5328 - val_root_mean_squared_error: 0.6843\n",
      "Epoch 33/100\n",
      "\u001b[1m363/363\u001b[0m \u001b[32m━━━━━━━━━━━━━━━━━━━━\u001b[0m\u001b[37m\u001b[0m \u001b[1m0s\u001b[0m 422us/step - loss: 0.3581 - mean_absolute_percentage_error: 23.6255 - root_mean_squared_error: 0.5981 - val_loss: 0.4144 - val_mean_absolute_percentage_error: 27.4592 - val_root_mean_squared_error: 0.6438\n",
      "Epoch 34/100\n",
      "\u001b[1m363/363\u001b[0m \u001b[32m━━━━━━━━━━━━━━━━━━━━\u001b[0m\u001b[37m\u001b[0m \u001b[1m0s\u001b[0m 422us/step - loss: 0.3282 - mean_absolute_percentage_error: 23.1646 - root_mean_squared_error: 0.5727 - val_loss: 0.4113 - val_mean_absolute_percentage_error: 25.3885 - val_root_mean_squared_error: 0.6413\n",
      "Epoch 35/100\n",
      "\u001b[1m363/363\u001b[0m \u001b[32m━━━━━━━━━━━━━━━━━━━━\u001b[0m\u001b[37m\u001b[0m \u001b[1m0s\u001b[0m 417us/step - loss: 0.3240 - mean_absolute_percentage_error: 22.3249 - root_mean_squared_error: 0.5688 - val_loss: 0.4087 - val_mean_absolute_percentage_error: 25.7126 - val_root_mean_squared_error: 0.6393\n",
      "Epoch 36/100\n",
      "\u001b[1m363/363\u001b[0m \u001b[32m━━━━━━━━━━━━━━━━━━━━\u001b[0m\u001b[37m\u001b[0m \u001b[1m0s\u001b[0m 419us/step - loss: 0.3224 - mean_absolute_percentage_error: 22.4612 - root_mean_squared_error: 0.5676 - val_loss: 0.4175 - val_mean_absolute_percentage_error: 24.8389 - val_root_mean_squared_error: 0.6461\n",
      "Epoch 37/100\n",
      "\u001b[1m363/363\u001b[0m \u001b[32m━━━━━━━━━━━━━━━━━━━━\u001b[0m\u001b[37m\u001b[0m \u001b[1m0s\u001b[0m 467us/step - loss: 0.3212 - mean_absolute_percentage_error: 22.5667 - root_mean_squared_error: 0.5666 - val_loss: 0.4436 - val_mean_absolute_percentage_error: 26.3577 - val_root_mean_squared_error: 0.6661\n",
      "Epoch 38/100\n",
      "\u001b[1m363/363\u001b[0m \u001b[32m━━━━━━━━━━━━━━━━━━━━\u001b[0m\u001b[37m\u001b[0m \u001b[1m0s\u001b[0m 422us/step - loss: 0.3667 - mean_absolute_percentage_error: 23.2488 - root_mean_squared_error: 0.6053 - val_loss: 0.4158 - val_mean_absolute_percentage_error: 26.1169 - val_root_mean_squared_error: 0.6448\n",
      "Epoch 39/100\n",
      "\u001b[1m363/363\u001b[0m \u001b[32m━━━━━━━━━━━━━━━━━━━━\u001b[0m\u001b[37m\u001b[0m \u001b[1m0s\u001b[0m 419us/step - loss: 0.3287 - mean_absolute_percentage_error: 22.6869 - root_mean_squared_error: 0.5732 - val_loss: 0.4157 - val_mean_absolute_percentage_error: 27.1522 - val_root_mean_squared_error: 0.6448\n",
      "Epoch 40/100\n",
      "\u001b[1m363/363\u001b[0m \u001b[32m━━━━━━━━━━━━━━━━━━━━\u001b[0m\u001b[37m\u001b[0m \u001b[1m0s\u001b[0m 416us/step - loss: 0.3200 - mean_absolute_percentage_error: 22.7741 - root_mean_squared_error: 0.5656 - val_loss: 0.4143 - val_mean_absolute_percentage_error: 25.4101 - val_root_mean_squared_error: 0.6437\n",
      "Epoch 41/100\n",
      "\u001b[1m363/363\u001b[0m \u001b[32m━━━━━━━━━━━━━━━━━━━━\u001b[0m\u001b[37m\u001b[0m \u001b[1m0s\u001b[0m 419us/step - loss: 0.3373 - mean_absolute_percentage_error: 22.8517 - root_mean_squared_error: 0.5796 - val_loss: 0.4099 - val_mean_absolute_percentage_error: 25.3131 - val_root_mean_squared_error: 0.6402\n",
      "Epoch 42/100\n",
      "\u001b[1m363/363\u001b[0m \u001b[32m━━━━━━━━━━━━━━━━━━━━\u001b[0m\u001b[37m\u001b[0m \u001b[1m0s\u001b[0m 419us/step - loss: 0.3131 - mean_absolute_percentage_error: 22.2882 - root_mean_squared_error: 0.5594 - val_loss: 0.4145 - val_mean_absolute_percentage_error: 26.8551 - val_root_mean_squared_error: 0.6438\n",
      "Epoch 43/100\n",
      "\u001b[1m363/363\u001b[0m \u001b[32m━━━━━━━━━━━━━━━━━━━━\u001b[0m\u001b[37m\u001b[0m \u001b[1m0s\u001b[0m 420us/step - loss: 0.3304 - mean_absolute_percentage_error: 23.1551 - root_mean_squared_error: 0.5747 - val_loss: 0.4198 - val_mean_absolute_percentage_error: 25.1110 - val_root_mean_squared_error: 0.6480\n",
      "Epoch 44/100\n",
      "\u001b[1m363/363\u001b[0m \u001b[32m━━━━━━━━━━━━━━━━━━━━\u001b[0m\u001b[37m\u001b[0m \u001b[1m0s\u001b[0m 422us/step - loss: 0.3118 - mean_absolute_percentage_error: 22.2570 - root_mean_squared_error: 0.5583 - val_loss: 0.4056 - val_mean_absolute_percentage_error: 26.1364 - val_root_mean_squared_error: 0.6369\n",
      "Epoch 45/100\n",
      "\u001b[1m363/363\u001b[0m \u001b[32m━━━━━━━━━━━━━━━━━━━━\u001b[0m\u001b[37m\u001b[0m \u001b[1m0s\u001b[0m 422us/step - loss: 0.3238 - mean_absolute_percentage_error: 22.9687 - root_mean_squared_error: 0.5688 - val_loss: 0.4074 - val_mean_absolute_percentage_error: 26.0464 - val_root_mean_squared_error: 0.6383\n",
      "Epoch 46/100\n",
      "\u001b[1m363/363\u001b[0m \u001b[32m━━━━━━━━━━━━━━━━━━━━\u001b[0m\u001b[37m\u001b[0m \u001b[1m0s\u001b[0m 439us/step - loss: 0.3127 - mean_absolute_percentage_error: 22.4204 - root_mean_squared_error: 0.5591 - val_loss: 0.4083 - val_mean_absolute_percentage_error: 26.3691 - val_root_mean_squared_error: 0.6390\n",
      "Epoch 47/100\n",
      "\u001b[1m363/363\u001b[0m \u001b[32m━━━━━━━━━━━━━━━━━━━━\u001b[0m\u001b[37m\u001b[0m \u001b[1m0s\u001b[0m 439us/step - loss: 0.3019 - mean_absolute_percentage_error: 21.9486 - root_mean_squared_error: 0.5494 - val_loss: 0.4023 - val_mean_absolute_percentage_error: 26.2968 - val_root_mean_squared_error: 0.6343\n",
      "Epoch 48/100\n",
      "\u001b[1m363/363\u001b[0m \u001b[32m━━━━━━━━━━━━━━━━━━━━\u001b[0m\u001b[37m\u001b[0m \u001b[1m0s\u001b[0m 441us/step - loss: 0.3172 - mean_absolute_percentage_error: 22.4577 - root_mean_squared_error: 0.5630 - val_loss: 0.3991 - val_mean_absolute_percentage_error: 25.5081 - val_root_mean_squared_error: 0.6317\n",
      "Epoch 49/100\n",
      "\u001b[1m363/363\u001b[0m \u001b[32m━━━━━━━━━━━━━━━━━━━━\u001b[0m\u001b[37m\u001b[0m \u001b[1m0s\u001b[0m 425us/step - loss: 0.3032 - mean_absolute_percentage_error: 21.9168 - root_mean_squared_error: 0.5503 - val_loss: 0.4218 - val_mean_absolute_percentage_error: 25.7237 - val_root_mean_squared_error: 0.6494\n",
      "Epoch 50/100\n",
      "\u001b[1m363/363\u001b[0m \u001b[32m━━━━━━━━━━━━━━━━━━━━\u001b[0m\u001b[37m\u001b[0m \u001b[1m0s\u001b[0m 423us/step - loss: 0.3066 - mean_absolute_percentage_error: 22.2659 - root_mean_squared_error: 0.5536 - val_loss: 0.4021 - val_mean_absolute_percentage_error: 25.5627 - val_root_mean_squared_error: 0.6341\n",
      "Epoch 51/100\n",
      "\u001b[1m363/363\u001b[0m \u001b[32m━━━━━━━━━━━━━━━━━━━━\u001b[0m\u001b[37m\u001b[0m \u001b[1m0s\u001b[0m 422us/step - loss: 0.2983 - mean_absolute_percentage_error: 21.8852 - root_mean_squared_error: 0.5461 - val_loss: 0.4021 - val_mean_absolute_percentage_error: 25.9471 - val_root_mean_squared_error: 0.6341\n",
      "Epoch 52/100\n",
      "\u001b[1m363/363\u001b[0m \u001b[32m━━━━━━━━━━━━━━━━━━━━\u001b[0m\u001b[37m\u001b[0m \u001b[1m0s\u001b[0m 418us/step - loss: 0.3051 - mean_absolute_percentage_error: 21.6987 - root_mean_squared_error: 0.5521 - val_loss: 0.4021 - val_mean_absolute_percentage_error: 24.8891 - val_root_mean_squared_error: 0.6341\n",
      "Epoch 53/100\n",
      "\u001b[1m363/363\u001b[0m \u001b[32m━━━━━━━━━━━━━━━━━━━━\u001b[0m\u001b[37m\u001b[0m \u001b[1m0s\u001b[0m 422us/step - loss: 0.3042 - mean_absolute_percentage_error: 21.7888 - root_mean_squared_error: 0.5514 - val_loss: 0.4049 - val_mean_absolute_percentage_error: 25.2846 - val_root_mean_squared_error: 0.6363\n",
      "Epoch 54/100\n",
      "\u001b[1m363/363\u001b[0m \u001b[32m━━━━━━━━━━━━━━━━━━━━\u001b[0m\u001b[37m\u001b[0m \u001b[1m0s\u001b[0m 455us/step - loss: 0.3170 - mean_absolute_percentage_error: 22.1375 - root_mean_squared_error: 0.5621 - val_loss: 0.4000 - val_mean_absolute_percentage_error: 24.3584 - val_root_mean_squared_error: 0.6325\n",
      "Epoch 55/100\n",
      "\u001b[1m363/363\u001b[0m \u001b[32m━━━━━━━━━━━━━━━━━━━━\u001b[0m\u001b[37m\u001b[0m \u001b[1m0s\u001b[0m 419us/step - loss: 0.3121 - mean_absolute_percentage_error: 21.7093 - root_mean_squared_error: 0.5584 - val_loss: 0.4004 - val_mean_absolute_percentage_error: 24.3787 - val_root_mean_squared_error: 0.6328\n",
      "Epoch 56/100\n",
      "\u001b[1m363/363\u001b[0m \u001b[32m━━━━━━━━━━━━━━━━━━━━\u001b[0m\u001b[37m\u001b[0m \u001b[1m0s\u001b[0m 415us/step - loss: 0.3029 - mean_absolute_percentage_error: 21.7119 - root_mean_squared_error: 0.5498 - val_loss: 0.4022 - val_mean_absolute_percentage_error: 24.7231 - val_root_mean_squared_error: 0.6342\n",
      "Epoch 57/100\n",
      "\u001b[1m363/363\u001b[0m \u001b[32m━━━━━━━━━━━━━━━━━━━━\u001b[0m\u001b[37m\u001b[0m \u001b[1m0s\u001b[0m 419us/step - loss: 0.3008 - mean_absolute_percentage_error: 21.8476 - root_mean_squared_error: 0.5484 - val_loss: 0.4025 - val_mean_absolute_percentage_error: 25.5578 - val_root_mean_squared_error: 0.6344\n",
      "Epoch 58/100\n",
      "\u001b[1m363/363\u001b[0m \u001b[32m━━━━━━━━━━━━━━━━━━━━\u001b[0m\u001b[37m\u001b[0m \u001b[1m0s\u001b[0m 413us/step - loss: 0.2989 - mean_absolute_percentage_error: 21.5249 - root_mean_squared_error: 0.5466 - val_loss: 0.3954 - val_mean_absolute_percentage_error: 25.4404 - val_root_mean_squared_error: 0.6288\n",
      "Epoch 59/100\n",
      "\u001b[1m363/363\u001b[0m \u001b[32m━━━━━━━━━━━━━━━━━━━━\u001b[0m\u001b[37m\u001b[0m \u001b[1m0s\u001b[0m 420us/step - loss: 0.2900 - mean_absolute_percentage_error: 21.1194 - root_mean_squared_error: 0.5384 - val_loss: 0.4017 - val_mean_absolute_percentage_error: 24.1362 - val_root_mean_squared_error: 0.6338\n",
      "Epoch 60/100\n",
      "\u001b[1m363/363\u001b[0m \u001b[32m━━━━━━━━━━━━━━━━━━━━\u001b[0m\u001b[37m\u001b[0m \u001b[1m0s\u001b[0m 424us/step - loss: 0.2904 - mean_absolute_percentage_error: 21.3647 - root_mean_squared_error: 0.5387 - val_loss: 0.3918 - val_mean_absolute_percentage_error: 24.7193 - val_root_mean_squared_error: 0.6260\n",
      "Epoch 61/100\n",
      "\u001b[1m363/363\u001b[0m \u001b[32m━━━━━━━━━━━━━━━━━━━━\u001b[0m\u001b[37m\u001b[0m \u001b[1m0s\u001b[0m 416us/step - loss: 0.3074 - mean_absolute_percentage_error: 21.1580 - root_mean_squared_error: 0.5543 - val_loss: 0.4109 - val_mean_absolute_percentage_error: 23.6437 - val_root_mean_squared_error: 0.6410\n",
      "Epoch 62/100\n",
      "\u001b[1m363/363\u001b[0m \u001b[32m━━━━━━━━━━━━━━━━━━━━\u001b[0m\u001b[37m\u001b[0m \u001b[1m0s\u001b[0m 417us/step - loss: 0.2930 - mean_absolute_percentage_error: 21.3500 - root_mean_squared_error: 0.5412 - val_loss: 0.3892 - val_mean_absolute_percentage_error: 24.3193 - val_root_mean_squared_error: 0.6239\n",
      "Epoch 63/100\n",
      "\u001b[1m363/363\u001b[0m \u001b[32m━━━━━━━━━━━━━━━━━━━━\u001b[0m\u001b[37m\u001b[0m \u001b[1m0s\u001b[0m 415us/step - loss: 0.2979 - mean_absolute_percentage_error: 21.1964 - root_mean_squared_error: 0.5453 - val_loss: 0.3956 - val_mean_absolute_percentage_error: 23.8003 - val_root_mean_squared_error: 0.6290\n",
      "Epoch 64/100\n",
      "\u001b[1m363/363\u001b[0m \u001b[32m━━━━━━━━━━━━━━━━━━━━\u001b[0m\u001b[37m\u001b[0m \u001b[1m0s\u001b[0m 418us/step - loss: 0.2929 - mean_absolute_percentage_error: 21.0771 - root_mean_squared_error: 0.5411 - val_loss: 0.3981 - val_mean_absolute_percentage_error: 24.7726 - val_root_mean_squared_error: 0.6310\n",
      "Epoch 65/100\n",
      "\u001b[1m363/363\u001b[0m \u001b[32m━━━━━━━━━━━━━━━━━━━━\u001b[0m\u001b[37m\u001b[0m \u001b[1m0s\u001b[0m 421us/step - loss: 0.2829 - mean_absolute_percentage_error: 20.7453 - root_mean_squared_error: 0.5317 - val_loss: 0.3973 - val_mean_absolute_percentage_error: 24.5734 - val_root_mean_squared_error: 0.6303\n",
      "Epoch 66/100\n",
      "\u001b[1m363/363\u001b[0m \u001b[32m━━━━━━━━━━━━━━━━━━━━\u001b[0m\u001b[37m\u001b[0m \u001b[1m0s\u001b[0m 423us/step - loss: 0.2997 - mean_absolute_percentage_error: 21.4971 - root_mean_squared_error: 0.5473 - val_loss: 0.4052 - val_mean_absolute_percentage_error: 23.8560 - val_root_mean_squared_error: 0.6365\n",
      "Epoch 67/100\n",
      "\u001b[1m363/363\u001b[0m \u001b[32m━━━━━━━━━━━━━━━━━━━━\u001b[0m\u001b[37m\u001b[0m \u001b[1m0s\u001b[0m 440us/step - loss: 0.3017 - mean_absolute_percentage_error: 21.2679 - root_mean_squared_error: 0.5492 - val_loss: 0.3979 - val_mean_absolute_percentage_error: 24.7997 - val_root_mean_squared_error: 0.6308\n",
      "Epoch 68/100\n",
      "\u001b[1m363/363\u001b[0m \u001b[32m━━━━━━━━━━━━━━━━━━━━\u001b[0m\u001b[37m\u001b[0m \u001b[1m0s\u001b[0m 420us/step - loss: 0.3001 - mean_absolute_percentage_error: 21.6785 - root_mean_squared_error: 0.5478 - val_loss: 0.3942 - val_mean_absolute_percentage_error: 24.8004 - val_root_mean_squared_error: 0.6278\n",
      "Epoch 69/100\n",
      "\u001b[1m363/363\u001b[0m \u001b[32m━━━━━━━━━━━━━━━━━━━━\u001b[0m\u001b[37m\u001b[0m \u001b[1m0s\u001b[0m 420us/step - loss: 0.2904 - mean_absolute_percentage_error: 21.6564 - root_mean_squared_error: 0.5389 - val_loss: 0.4054 - val_mean_absolute_percentage_error: 25.4165 - val_root_mean_squared_error: 0.6367\n",
      "Epoch 70/100\n",
      "\u001b[1m363/363\u001b[0m \u001b[32m━━━━━━━━━━━━━━━━━━━━\u001b[0m\u001b[37m\u001b[0m \u001b[1m0s\u001b[0m 415us/step - loss: 0.3071 - mean_absolute_percentage_error: 21.4658 - root_mean_squared_error: 0.5539 - val_loss: 0.3958 - val_mean_absolute_percentage_error: 24.0504 - val_root_mean_squared_error: 0.6291\n",
      "Epoch 71/100\n",
      "\u001b[1m363/363\u001b[0m \u001b[32m━━━━━━━━━━━━━━━━━━━━\u001b[0m\u001b[37m\u001b[0m \u001b[1m0s\u001b[0m 422us/step - loss: 0.2906 - mean_absolute_percentage_error: 21.0655 - root_mean_squared_error: 0.5389 - val_loss: 0.3984 - val_mean_absolute_percentage_error: 24.2901 - val_root_mean_squared_error: 0.6312\n",
      "Epoch 72/100\n",
      "\u001b[1m363/363\u001b[0m \u001b[32m━━━━━━━━━━━━━━━━━━━━\u001b[0m\u001b[37m\u001b[0m \u001b[1m0s\u001b[0m 470us/step - loss: 0.2874 - mean_absolute_percentage_error: 21.3201 - root_mean_squared_error: 0.5360 - val_loss: 0.3926 - val_mean_absolute_percentage_error: 23.9754 - val_root_mean_squared_error: 0.6266\n",
      "Epoch 73/100\n",
      "\u001b[1m363/363\u001b[0m \u001b[32m━━━━━━━━━━━━━━━━━━━━\u001b[0m\u001b[37m\u001b[0m \u001b[1m0s\u001b[0m 417us/step - loss: 0.2967 - mean_absolute_percentage_error: 21.3448 - root_mean_squared_error: 0.5446 - val_loss: 0.4016 - val_mean_absolute_percentage_error: 24.1416 - val_root_mean_squared_error: 0.6337\n",
      "Epoch 74/100\n",
      "\u001b[1m363/363\u001b[0m \u001b[32m━━━━━━━━━━━━━━━━━━━━\u001b[0m\u001b[37m\u001b[0m \u001b[1m0s\u001b[0m 425us/step - loss: 0.2941 - mean_absolute_percentage_error: 21.2103 - root_mean_squared_error: 0.5422 - val_loss: 0.3924 - val_mean_absolute_percentage_error: 24.6958 - val_root_mean_squared_error: 0.6264\n",
      "Epoch 75/100\n",
      "\u001b[1m363/363\u001b[0m \u001b[32m━━━━━━━━━━━━━━━━━━━━\u001b[0m\u001b[37m\u001b[0m \u001b[1m0s\u001b[0m 413us/step - loss: 0.2918 - mean_absolute_percentage_error: 21.3009 - root_mean_squared_error: 0.5401 - val_loss: 0.3959 - val_mean_absolute_percentage_error: 25.3159 - val_root_mean_squared_error: 0.6292\n",
      "Epoch 76/100\n",
      "\u001b[1m363/363\u001b[0m \u001b[32m━━━━━━━━━━━━━━━━━━━━\u001b[0m\u001b[37m\u001b[0m \u001b[1m0s\u001b[0m 419us/step - loss: 0.2996 - mean_absolute_percentage_error: 21.7556 - root_mean_squared_error: 0.5473 - val_loss: 0.4029 - val_mean_absolute_percentage_error: 23.9745 - val_root_mean_squared_error: 0.6347\n",
      "Epoch 77/100\n",
      "\u001b[1m363/363\u001b[0m \u001b[32m━━━━━━━━━━━━━━━━━━━━\u001b[0m\u001b[37m\u001b[0m \u001b[1m0s\u001b[0m 416us/step - loss: 0.2867 - mean_absolute_percentage_error: 20.7919 - root_mean_squared_error: 0.5354 - val_loss: 0.3920 - val_mean_absolute_percentage_error: 23.8678 - val_root_mean_squared_error: 0.6261\n",
      "Epoch 78/100\n",
      "\u001b[1m363/363\u001b[0m \u001b[32m━━━━━━━━━━━━━━━━━━━━\u001b[0m\u001b[37m\u001b[0m \u001b[1m0s\u001b[0m 421us/step - loss: 0.2899 - mean_absolute_percentage_error: 21.1695 - root_mean_squared_error: 0.5380 - val_loss: 0.3971 - val_mean_absolute_percentage_error: 23.7072 - val_root_mean_squared_error: 0.6302\n",
      "Epoch 79/100\n",
      "\u001b[1m363/363\u001b[0m \u001b[32m━━━━━━━━━━━━━━━━━━━━\u001b[0m\u001b[37m\u001b[0m \u001b[1m0s\u001b[0m 421us/step - loss: 0.3010 - mean_absolute_percentage_error: 21.2866 - root_mean_squared_error: 0.5486 - val_loss: 0.3922 - val_mean_absolute_percentage_error: 25.0515 - val_root_mean_squared_error: 0.6263\n",
      "Epoch 80/100\n",
      "\u001b[1m363/363\u001b[0m \u001b[32m━━━━━━━━━━━━━━━━━━━━\u001b[0m\u001b[37m\u001b[0m \u001b[1m0s\u001b[0m 414us/step - loss: 0.2913 - mean_absolute_percentage_error: 21.0187 - root_mean_squared_error: 0.5396 - val_loss: 0.3889 - val_mean_absolute_percentage_error: 24.7652 - val_root_mean_squared_error: 0.6236\n",
      "Epoch 81/100\n",
      "\u001b[1m363/363\u001b[0m \u001b[32m━━━━━━━━━━━━━━━━━━━━\u001b[0m\u001b[37m\u001b[0m \u001b[1m0s\u001b[0m 415us/step - loss: 0.2950 - mean_absolute_percentage_error: 21.2672 - root_mean_squared_error: 0.5429 - val_loss: 0.4018 - val_mean_absolute_percentage_error: 23.7550 - val_root_mean_squared_error: 0.6338\n",
      "Epoch 82/100\n",
      "\u001b[1m363/363\u001b[0m \u001b[32m━━━━━━━━━━━━━━━━━━━━\u001b[0m\u001b[37m\u001b[0m \u001b[1m0s\u001b[0m 418us/step - loss: 0.2873 - mean_absolute_percentage_error: 20.9594 - root_mean_squared_error: 0.5360 - val_loss: 0.3981 - val_mean_absolute_percentage_error: 24.5517 - val_root_mean_squared_error: 0.6310\n",
      "Epoch 83/100\n",
      "\u001b[1m363/363\u001b[0m \u001b[32m━━━━━━━━━━━━━━━━━━━━\u001b[0m\u001b[37m\u001b[0m \u001b[1m0s\u001b[0m 422us/step - loss: 0.2844 - mean_absolute_percentage_error: 21.4778 - root_mean_squared_error: 0.5330 - val_loss: 0.4023 - val_mean_absolute_percentage_error: 26.0738 - val_root_mean_squared_error: 0.6343\n",
      "Epoch 84/100\n",
      "\u001b[1m363/363\u001b[0m \u001b[32m━━━━━━━━━━━━━━━━━━━━\u001b[0m\u001b[37m\u001b[0m \u001b[1m0s\u001b[0m 413us/step - loss: 0.3018 - mean_absolute_percentage_error: 21.6606 - root_mean_squared_error: 0.5491 - val_loss: 0.4122 - val_mean_absolute_percentage_error: 26.2729 - val_root_mean_squared_error: 0.6420\n",
      "Epoch 85/100\n",
      "\u001b[1m363/363\u001b[0m \u001b[32m━━━━━━━━━━━━━━━━━━━━\u001b[0m\u001b[37m\u001b[0m \u001b[1m0s\u001b[0m 418us/step - loss: 0.2999 - mean_absolute_percentage_error: 21.3499 - root_mean_squared_error: 0.5475 - val_loss: 0.3997 - val_mean_absolute_percentage_error: 25.9171 - val_root_mean_squared_error: 0.6322\n",
      "Epoch 86/100\n",
      "\u001b[1m363/363\u001b[0m \u001b[32m━━━━━━━━━━━━━━━━━━━━\u001b[0m\u001b[37m\u001b[0m \u001b[1m0s\u001b[0m 470us/step - loss: 0.2882 - mean_absolute_percentage_error: 21.0207 - root_mean_squared_error: 0.5368 - val_loss: 0.3890 - val_mean_absolute_percentage_error: 24.1176 - val_root_mean_squared_error: 0.6237\n",
      "Epoch 87/100\n",
      "\u001b[1m363/363\u001b[0m \u001b[32m━━━━━━━━━━━━━━━━━━━━\u001b[0m\u001b[37m\u001b[0m \u001b[1m0s\u001b[0m 419us/step - loss: 0.2902 - mean_absolute_percentage_error: 20.9509 - root_mean_squared_error: 0.5387 - val_loss: 0.3890 - val_mean_absolute_percentage_error: 24.7454 - val_root_mean_squared_error: 0.6237\n",
      "Epoch 88/100\n",
      "\u001b[1m363/363\u001b[0m \u001b[32m━━━━━━━━━━━━━━━━━━━━\u001b[0m\u001b[37m\u001b[0m \u001b[1m0s\u001b[0m 428us/step - loss: 0.2911 - mean_absolute_percentage_error: 21.0378 - root_mean_squared_error: 0.5394 - val_loss: 0.3901 - val_mean_absolute_percentage_error: 24.6192 - val_root_mean_squared_error: 0.6246\n",
      "Epoch 89/100\n",
      "\u001b[1m363/363\u001b[0m \u001b[32m━━━━━━━━━━━━━━━━━━━━\u001b[0m\u001b[37m\u001b[0m \u001b[1m0s\u001b[0m 421us/step - loss: 0.2926 - mean_absolute_percentage_error: 21.0461 - root_mean_squared_error: 0.5408 - val_loss: 0.4017 - val_mean_absolute_percentage_error: 23.2297 - val_root_mean_squared_error: 0.6338\n",
      "Epoch 90/100\n",
      "\u001b[1m363/363\u001b[0m \u001b[32m━━━━━━━━━━━━━━━━━━━━\u001b[0m\u001b[37m\u001b[0m \u001b[1m0s\u001b[0m 438us/step - loss: 0.2944 - mean_absolute_percentage_error: 21.0232 - root_mean_squared_error: 0.5424 - val_loss: 0.4020 - val_mean_absolute_percentage_error: 23.3177 - val_root_mean_squared_error: 0.6340\n",
      "Epoch 91/100\n",
      "\u001b[1m363/363\u001b[0m \u001b[32m━━━━━━━━━━━━━━━━━━━━\u001b[0m\u001b[37m\u001b[0m \u001b[1m0s\u001b[0m 440us/step - loss: 0.2880 - mean_absolute_percentage_error: 20.8602 - root_mean_squared_error: 0.5364 - val_loss: 0.3922 - val_mean_absolute_percentage_error: 24.0758 - val_root_mean_squared_error: 0.6263\n",
      "Epoch 92/100\n",
      "\u001b[1m363/363\u001b[0m \u001b[32m━━━━━━━━━━━━━━━━━━━━\u001b[0m\u001b[37m\u001b[0m \u001b[1m0s\u001b[0m 436us/step - loss: 0.2916 - mean_absolute_percentage_error: 20.6467 - root_mean_squared_error: 0.5399 - val_loss: 0.3856 - val_mean_absolute_percentage_error: 24.1963 - val_root_mean_squared_error: 0.6210\n",
      "Epoch 93/100\n",
      "\u001b[1m363/363\u001b[0m \u001b[32m━━━━━━━━━━━━━━━━━━━━\u001b[0m\u001b[37m\u001b[0m \u001b[1m0s\u001b[0m 433us/step - loss: 0.2780 - mean_absolute_percentage_error: 20.3886 - root_mean_squared_error: 0.5271 - val_loss: 0.3923 - val_mean_absolute_percentage_error: 23.7081 - val_root_mean_squared_error: 0.6263\n",
      "Epoch 94/100\n",
      "\u001b[1m363/363\u001b[0m \u001b[32m━━━━━━━━━━━━━━━━━━━━\u001b[0m\u001b[37m\u001b[0m \u001b[1m0s\u001b[0m 424us/step - loss: 0.2798 - mean_absolute_percentage_error: 20.7039 - root_mean_squared_error: 0.5288 - val_loss: 0.4002 - val_mean_absolute_percentage_error: 24.4137 - val_root_mean_squared_error: 0.6326\n",
      "Epoch 95/100\n",
      "\u001b[1m363/363\u001b[0m \u001b[32m━━━━━━━━━━━━━━━━━━━━\u001b[0m\u001b[37m\u001b[0m \u001b[1m0s\u001b[0m 420us/step - loss: 0.3002 - mean_absolute_percentage_error: 21.0584 - root_mean_squared_error: 0.5477 - val_loss: 0.3964 - val_mean_absolute_percentage_error: 24.4439 - val_root_mean_squared_error: 0.6296\n",
      "Epoch 96/100\n",
      "\u001b[1m363/363\u001b[0m \u001b[32m━━━━━━━━━━━━━━━━━━━━\u001b[0m\u001b[37m\u001b[0m \u001b[1m0s\u001b[0m 418us/step - loss: 0.2896 - mean_absolute_percentage_error: 20.7822 - root_mean_squared_error: 0.5380 - val_loss: 0.3946 - val_mean_absolute_percentage_error: 24.2970 - val_root_mean_squared_error: 0.6282\n",
      "Epoch 97/100\n",
      "\u001b[1m363/363\u001b[0m \u001b[32m━━━━━━━━━━━━━━━━━━━━\u001b[0m\u001b[37m\u001b[0m \u001b[1m0s\u001b[0m 421us/step - loss: 0.2934 - mean_absolute_percentage_error: 20.8120 - root_mean_squared_error: 0.5415 - val_loss: 0.3905 - val_mean_absolute_percentage_error: 24.1851 - val_root_mean_squared_error: 0.6249\n",
      "Epoch 98/100\n",
      "\u001b[1m363/363\u001b[0m \u001b[32m━━━━━━━━━━━━━━━━━━━━\u001b[0m\u001b[37m\u001b[0m \u001b[1m0s\u001b[0m 469us/step - loss: 0.2923 - mean_absolute_percentage_error: 20.3718 - root_mean_squared_error: 0.5405 - val_loss: 0.3983 - val_mean_absolute_percentage_error: 25.5270 - val_root_mean_squared_error: 0.6311\n",
      "Epoch 99/100\n",
      "\u001b[1m363/363\u001b[0m \u001b[32m━━━━━━━━━━━━━━━━━━━━\u001b[0m\u001b[37m\u001b[0m \u001b[1m0s\u001b[0m 422us/step - loss: 0.2819 - mean_absolute_percentage_error: 20.7505 - root_mean_squared_error: 0.5308 - val_loss: 0.3999 - val_mean_absolute_percentage_error: 23.8137 - val_root_mean_squared_error: 0.6324\n",
      "Epoch 100/100\n",
      "\u001b[1m363/363\u001b[0m \u001b[32m━━━━━━━━━━━━━━━━━━━━\u001b[0m\u001b[37m\u001b[0m \u001b[1m0s\u001b[0m 424us/step - loss: 0.2863 - mean_absolute_percentage_error: 20.6979 - root_mean_squared_error: 0.5350 - val_loss: 0.3905 - val_mean_absolute_percentage_error: 24.6763 - val_root_mean_squared_error: 0.6249\n"
     ]
    }
   ],
   "source": [
    "history = model.fit(X_train, y_train, epochs=100, validation_data=(X_valid, y_valid))"
   ]
  },
  {
   "cell_type": "code",
   "execution_count": 23,
   "metadata": {},
   "outputs": [
    {
     "name": "stdout",
     "output_type": "stream",
     "text": [
      "\u001b[1m162/162\u001b[0m \u001b[32m━━━━━━━━━━━━━━━━━━━━\u001b[0m\u001b[37m\u001b[0m \u001b[1m0s\u001b[0m 285us/step - loss: 0.3181 - mean_absolute_percentage_error: 23.0719 - root_mean_squared_error: 0.5635\n"
     ]
    }
   ],
   "source": [
    "mse_test = model.evaluate(X_test, y_test)"
   ]
  },
  {
   "cell_type": "code",
   "execution_count": 27,
   "metadata": {},
   "outputs": [
    {
     "name": "stderr",
     "output_type": "stream",
     "text": [
      "WARNING:absl:You are saving your model as an HDF5 file via `model.save()` or `keras.saving.save_model(model)`. This file format is considered legacy. We recommend using instead the native Keras format, e.g. `model.save('my_model.keras')` or `keras.saving.save_model(model, 'my_model.keras')`. \n"
     ]
    }
   ],
   "source": [
    "model.save('cali.h5')"
   ]
  },
  {
   "cell_type": "code",
   "execution_count": 28,
   "metadata": {},
   "outputs": [
    {
     "name": "stderr",
     "output_type": "stream",
     "text": [
      "WARNING:absl:Compiled the loaded model, but the compiled metrics have yet to be built. `model.compile_metrics` will be empty until you train or evaluate the model.\n"
     ]
    }
   ],
   "source": [
    "from keras.models import load_model\n",
    "model = load_model('cali.h5')"
   ]
  },
  {
   "cell_type": "code",
   "execution_count": 29,
   "metadata": {},
   "outputs": [
    {
     "name": "stdout",
     "output_type": "stream",
     "text": [
      "\u001b[1m162/162\u001b[0m \u001b[32m━━━━━━━━━━━━━━━━━━━━\u001b[0m\u001b[37m\u001b[0m \u001b[1m0s\u001b[0m 317us/step\n"
     ]
    }
   ],
   "source": [
    "y_pred = model.predict(X_test)"
   ]
  },
  {
   "cell_type": "code",
   "execution_count": 30,
   "metadata": {},
   "outputs": [
    {
     "data": {
      "text/plain": [
       "0.7481610583267868"
      ]
     },
     "execution_count": 30,
     "metadata": {},
     "output_type": "execute_result"
    }
   ],
   "source": [
    "from sklearn.metrics import r2_score\n",
    "\n",
    "r2=r2_score(y_test, y_pred)\n",
    "r2"
   ]
  }
 ],
 "metadata": {
  "kernelspec": {
   "display_name": "Python 3",
   "language": "python",
   "name": "python3"
  },
  "language_info": {
   "codemirror_mode": {
    "name": "ipython",
    "version": 3
   },
   "file_extension": ".py",
   "mimetype": "text/x-python",
   "name": "python",
   "nbconvert_exporter": "python",
   "pygments_lexer": "ipython3",
   "version": "3.9.6"
  }
 },
 "nbformat": 4,
 "nbformat_minor": 2
}
